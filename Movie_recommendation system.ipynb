{
 "cells": [
  {
   "cell_type": "markdown",
   "metadata": {
    "id": "Hr7SGYEq69wv"
   },
   "source": [
    "# ITCS 6162: Data Mining - Programming Assignment"
   ]
  },
  {
   "cell_type": "markdown",
   "metadata": {
    "id": "L_idzFtE7M_9"
   },
   "source": [
    "**In this assignment, you will explore data analysis, recommendation algorithms, and graph-based techniques using the MovieLens dataset. Your tasks will range from basic data exploration to advanced recommendation models, including:**\n",
    "- Data manipulation with pandas\n",
    "- User-item collaborative filtering\n",
    "- Similarity-based recommendation models\n",
    "- A Pixie-inspired Graph-based recommendation using adjacency lists with weighted random walks (without using NetworkX)\n"
   ]
  },
  {
   "cell_type": "markdown",
   "metadata": {
    "id": "EZxjOF_l79zc"
   },
   "source": [
    "#### **Dataset Files:**\n",
    "- **`u.data`**: User-movie ratings (`user_id  movie_id  rating  timestamp`)\n",
    "- **`u.item`**: Movie metadata (`movie_id | title | release date | IMDB_website`)\n",
    "- **`u.user`**: User demographics (`user_id | age | gender | occupation | zip_code`)"
   ]
  },
  {
   "cell_type": "markdown",
   "metadata": {
    "id": "ytr6isc2F9g6"
   },
   "source": [
    "## **Part 1: Exploring and Cleaning Data**"
   ]
  },
  {
   "cell_type": "markdown",
   "metadata": {
    "id": "87kIrhTC9Ba1"
   },
   "source": [
    "### Inspecting the Dataset Format\n",
    "\n",
    "The dataset is not in a traditional CSV format. To examine its structure, use the following shell command to display the first 10 lines of the file:\n",
    "\n",
    "```sh\n",
    "!head <file_name>\n"
   ]
  },
  {
   "cell_type": "markdown",
   "metadata": {
    "id": "PjOtbBWM9xWv"
   },
   "source": [
    "**In the cells given below. Write the code to read the files.**"
   ]
  },
  {
   "cell_type": "code",
   "execution_count": null,
   "metadata": {
    "id": "XOoSaKsq68nD"
   },
   "outputs": [],
   "source": [
    "# u.data\n",
    "def inspect_file_format(filepath, encoding=\"utf-8\"):\n",
    "    print(f\"--- First 10 lines of {filepath} ---\")\n",
    "    try:\n",
    "        with open(filepath, \"r\", encoding=encoding) as f:\n",
    "            for i in range(10):\n",
    "                line = f.readline()\n",
    "                if not line:\n",
    "                    break\n",
    "                print(line.strip())\n",
    "    except Exception as e:\n",
    "        print(f\"Error reading {filepath}: {e}\")\n",
    "    print(\"\\n\")\n",
    "\n",
    "# Inspect each of the MovieLens dataset files\n",
    "inspect_file_format(\"u.data\")\n"
   ]
  },
  {
   "cell_type": "markdown",
   "metadata": {},
   "source": [
    "<h4> Explanation:</h4>\n",
    "    <p>The inspect_file_format function reads and prints the first 10 lines of a given file (like \"u.data\"). It's used to quickly check the structure and format of a file. It handles errors gracefully (like file not found or encoding issues) and removes extra whitespace from each printed line for cleaner output.</p>"
   ]
  },
  {
   "cell_type": "markdown",
   "metadata": {},
   "source": [
    "Result:\n",
    "The above datatset (i.e: users data). The dataset has user_id, movie_id, ratings, timestamp. Also the delimiter used in the dataset is \\t."
   ]
  },
  {
   "cell_type": "code",
   "execution_count": 2,
   "metadata": {
    "id": "dckMko0o9t-D"
   },
   "outputs": [
    {
     "name": "stdout",
     "output_type": "stream",
     "text": [
      "--- First 10 lines of u.item ---\n",
      "1|Toy Story (1995)|01-Jan-1995||http://us.imdb.com/M/title-exact?Toy%20Story%20(1995)|0|0|0|1|1|1|0|0|0|0|0|0|0|0|0|0|0|0|0\n",
      "2|GoldenEye (1995)|01-Jan-1995||http://us.imdb.com/M/title-exact?GoldenEye%20(1995)|0|1|1|0|0|0|0|0|0|0|0|0|0|0|0|0|1|0|0\n",
      "3|Four Rooms (1995)|01-Jan-1995||http://us.imdb.com/M/title-exact?Four%20Rooms%20(1995)|0|0|0|0|0|0|0|0|0|0|0|0|0|0|0|0|1|0|0\n",
      "4|Get Shorty (1995)|01-Jan-1995||http://us.imdb.com/M/title-exact?Get%20Shorty%20(1995)|0|1|0|0|0|1|0|0|1|0|0|0|0|0|0|0|0|0|0\n",
      "5|Copycat (1995)|01-Jan-1995||http://us.imdb.com/M/title-exact?Copycat%20(1995)|0|0|0|0|0|0|1|0|1|0|0|0|0|0|0|0|1|0|0\n",
      "6|Shanghai Triad (Yao a yao yao dao waipo qiao) (1995)|01-Jan-1995||http://us.imdb.com/Title?Yao+a+yao+yao+dao+waipo+qiao+(1995)|0|0|0|0|0|0|0|0|1|0|0|0|0|0|0|0|0|0|0\n",
      "7|Twelve Monkeys (1995)|01-Jan-1995||http://us.imdb.com/M/title-exact?Twelve%20Monkeys%20(1995)|0|0|0|0|0|0|0|0|1|0|0|0|0|0|0|1|0|0|0\n",
      "8|Babe (1995)|01-Jan-1995||http://us.imdb.com/M/title-exact?Babe%20(1995)|0|0|0|0|1|1|0|0|1|0|0|0|0|0|0|0|0|0|0\n",
      "9|Dead Man Walking (1995)|01-Jan-1995||http://us.imdb.com/M/title-exact?Dead%20Man%20Walking%20(1995)|0|0|0|0|0|0|0|0|1|0|0|0|0|0|0|0|0|0|0\n",
      "10|Richard III (1995)|22-Jan-1996||http://us.imdb.com/M/title-exact?Richard%20III%20(1995)|0|0|0|0|0|0|0|0|1|0|0|0|0|0|0|0|0|1|0\n",
      "\n",
      "\n"
     ]
    }
   ],
   "source": [
    "# u.item\n",
    "# u.item\n",
    "def inspect_file_format(filepath, encoding=\"utf-8\"):\n",
    "    print(f\"--- First 10 lines of {filepath} ---\")\n",
    "    try:\n",
    "        with open(filepath, \"r\", encoding=encoding) as f:\n",
    "            for i in range(10):\n",
    "                line = f.readline()\n",
    "                if not line:\n",
    "                    break\n",
    "                print(line.strip())\n",
    "    except Exception as e:\n",
    "        print(f\"Error reading {filepath}: {e}\")\n",
    "    print(\"\\n\")\n",
    "\n",
    "# Inspect each of the MovieLens dataset files\n",
    "\n",
    "inspect_file_format(\"u.item\", \"latin-1\")    # pipe-separated, non-UTF characters\n"
   ]
  },
  {
   "cell_type": "markdown",
   "metadata": {},
   "source": [
    "Explanation:\n",
    "The inspect_file_format function reads and prints the first 10 lines of a given file (like \"u.item\"). It's used to quickly check the structure and format of a file. It handles errors gracefully (like file not found or encoding issues) and removes extra whitespace from each printed line for cleaner output.\n",
    "\n",
    "Result : \n",
    "The above dataset (i.e Movie Metadata) which has movie_id, title, release_date, IMDb_link, genre flags as its columns. Also the columns are seperated by delimiter pipe |"
   ]
  },
  {
   "cell_type": "code",
   "execution_count": 3,
   "metadata": {
    "id": "R7kBwpsi-WKB"
   },
   "outputs": [
    {
     "name": "stdout",
     "output_type": "stream",
     "text": [
      "--- First 10 lines of u.user ---\n",
      "1|24|M|technician|85711\n",
      "2|53|F|other|94043\n",
      "3|23|M|writer|32067\n",
      "4|24|M|technician|43537\n",
      "5|33|F|other|15213\n",
      "6|42|M|executive|98101\n",
      "7|57|M|administrator|91344\n",
      "8|36|M|administrator|05201\n",
      "9|29|M|student|01002\n",
      "10|53|M|lawyer|90703\n",
      "\n",
      "\n"
     ]
    }
   ],
   "source": [
    "# u.user\n",
    "# u.user\n",
    "def inspect_file_format(filepath, encoding=\"utf-8\"):\n",
    "    print(f\"--- First 10 lines of {filepath} ---\")\n",
    "    try:\n",
    "        with open(filepath, \"r\", encoding=encoding) as f:\n",
    "            for i in range(10):\n",
    "                line = f.readline()\n",
    "                if not line:\n",
    "                    break\n",
    "                print(line.strip())\n",
    "    except Exception as e:\n",
    "        print(f\"Error reading {filepath}: {e}\")\n",
    "    print(\"\\n\")\n",
    "\n",
    "# Inspect each of the MovieLens dataset files\n",
    "inspect_file_format(\"u.user\")              "
   ]
  },
  {
   "cell_type": "markdown",
   "metadata": {},
   "source": [
    "Explanation:\n",
    "The inspect_file_format function reads and prints the first 10 lines of a given file (like \"u.user\"). It's used to quickly check the structure and format of a file. It handles errors gracefully (like file not found or encoding issues) and removes extra whitespace from each printed line for cleaner output.\n",
    "\n",
    "Result: \n",
    "The above dataset (i.e User demographics ) has 5 fields (user_id, age, gender, occupation, zip_code). And these fields are seperated by delimiter pipe | ."
   ]
  },
  {
   "cell_type": "markdown",
   "metadata": {
    "id": "YnryIHO7-db3"
   },
   "source": [
    "#### Loading the Dataset with Pandas"
   ]
  },
  {
   "cell_type": "markdown",
   "metadata": {
    "id": "Jwmza7riBj30"
   },
   "source": [
    "Use **pandas** to load the dataset into a DataFrame for analysis. Follow these steps:  \n",
    "\n",
    "1. Import the necessary library: `pandas`.  \n",
    "2. Use `pd.read_csv()` (or an appropriate function) to read the dataset file.  \n",
    "3. Ensure the dataset is loaded with the correct delimiter (e.g., `','`, `'\\t'`,`'|'` , or another separator if needed).  \n",
    "4. Select and display the first few rows using `.head()`."
   ]
  },
  {
   "cell_type": "markdown",
   "metadata": {
    "id": "KPEDYYGOBOSD"
   },
   "source": [
    "Ensure that:  \n",
    "\n",
    "- The `ratings` dataset is read from `\"u.data\"` using tab (`'\\t'`) as a separator and column names (`\"user_id\"`, `\"movie_id\"`, `\"rating\"` and `\"timestamp\"`).  \n",
    "- The `movies` dataset is read from `\"u.item\"` using `'|'` as a separator, use columns (`0`, `1`, `2`), encoding (`\"latin-1\"`) and name the columns (`movie_id`, `title`, and `release_date`).  \n",
    "- The `users` dataset is read from `\"u.user\"` using `'|'` as a separator, use columns (`0`, `1`, `2`, `3`) and name the columns (`user_id`, `age`, `gender`, and `occupation`)."
   ]
  },
  {
   "cell_type": "code",
   "execution_count": 4,
   "metadata": {
    "id": "Go-Y-Ofy-ZTk"
   },
   "outputs": [],
   "source": [
    "# ratings\n",
    "import pandas as pd\n",
    "df_ratings = pd.read_csv(\"u.data\", sep=\"\\t\", names=[\"user_id\", \"movie_id\", \"rating\", \"timestamp\"])"
   ]
  },
  {
   "cell_type": "markdown",
   "metadata": {},
   "source": [
    "#### Code Explanation\n",
    "\n",
    "- `import pandas as pd`: Loads the pandas library for data analysis.\n",
    "\n",
    "- `pd.read_csv(\"u.data\", sep=\"\\t\", names=[...])`:  \n",
    "  Reads the `u.data` file (tab-separated) and adds column names:  \n",
    "  - `user_id`, `movie_id`, `rating`, `timestamp`\n",
    "\n",
    "- Stores the data in `df_ratings`, a DataFrame used for easy analysis."
   ]
  },
  {
   "cell_type": "code",
   "execution_count": 5,
   "metadata": {
    "id": "zM8IJGh-CLN5"
   },
   "outputs": [],
   "source": [
    "# movies\n",
    "df_movies = pd.read_csv(\"u.item\", sep=\"|\", encoding=\"latin-1\", usecols=[0, 1, 2],names=[\"movie_id\", \"title\", \"release_date\"])"
   ]
  },
  {
   "cell_type": "markdown",
   "metadata": {},
   "source": [
    "#### Code Explanation \n",
    "\n",
    "- Reads `u.item` (movie data) file from the MovieLens dataset.\n",
    "- `sep=\"|\"`: File is pipe-separated.\n",
    "- `encoding=\"latin-1\"`: Handles special characters.\n",
    "- `usecols=[0, 1, 2]`: Loads only the first 3 columns:\n",
    "  - `movie_id`, `title`, `release_date`\n",
    "- Stores the result in `df_movies` DataFrame."
   ]
  },
  {
   "cell_type": "code",
   "execution_count": 7,
   "metadata": {
    "id": "hsekVjevCNKj"
   },
   "outputs": [],
   "source": [
    "# users\n",
    "df_users = pd.read_csv(\"u.user\", sep=\"|\", usecols=[0, 1, 2, 3],names=[\"user_id\", \"age\", \"gender\", \"occupation\"])"
   ]
  },
  {
   "cell_type": "markdown",
   "metadata": {},
   "source": [
    "#### Code Explanation \n",
    "\n",
    "- Reads `u.user` (user data) file from the MovieLens dataset.\n",
    "- `sep=\"|\"`: File is pipe-separated.\n",
    "- `usecols=[0, 1, 2, 3]`: Loads the first 4 columns:\n",
    "  - `user_id`, `age`, `gender`, `occupation`\n",
    "- `names=[...]`: Assigns custom column names.\n",
    "- Stores the result in `df_users` DataFrame."
   ]
  },
  {
   "cell_type": "markdown",
   "metadata": {
    "id": "jE5OHLqt7xeq"
   },
   "source": [
    "**Note:** As a **Bonus** task save the `ratings`, `movies` and `users` dataframe created into a `.csv` file format. <br>\n",
    "**Hint:** Use the `to_csv()` function in pandas to save these DataFrames as CSV files."
   ]
  },
  {
   "cell_type": "code",
   "execution_count": 8,
   "metadata": {
    "id": "Chyv3c4n8wVC"
   },
   "outputs": [
    {
     "name": "stdout",
     "output_type": "stream",
     "text": [
      "Saved: ratings.csv\n"
     ]
    }
   ],
   "source": [
    "# ratings\n",
    "# ratings\n",
    "df_ratings.to_csv(\"ratings.csv\", index=False)\n",
    "print(\"Saved: ratings.csv\")"
   ]
  },
  {
   "cell_type": "markdown",
   "metadata": {},
   "source": [
    "#### Code Explanation\n",
    "\n",
    "- `df_ratings.to_csv(\"ratings.csv\", index=False)`  \n",
    "  Saves the `df_ratings` DataFrame to a file named `ratings.csv`.  \n",
    "  - `index=False` prevents pandas from writing row numbers to the file.\n",
    "\n",
    "- `print(\"Saved: ratings.csv\")`  \n",
    "  Prints a confirmation message after the file is successfully saved."
   ]
  },
  {
   "cell_type": "code",
   "execution_count": 9,
   "metadata": {
    "id": "Gl7zVV3y8wKU"
   },
   "outputs": [
    {
     "name": "stdout",
     "output_type": "stream",
     "text": [
      "Saved: movies.csv\n"
     ]
    }
   ],
   "source": [
    "# movies\n",
    "df_movies.to_csv(\"movies.csv\", index=False)\n",
    "print(\"Saved: movies.csv\")"
   ]
  },
  {
   "cell_type": "markdown",
   "metadata": {},
   "source": [
    "#### Code Explanation\n",
    "​\n",
    "- `df_movies.to_csv(\"movies.csv\", index=False)`  \n",
    "  Saves the `df_movies` DataFrame to a file named `movies.csv`.  \n",
    "  - `index=False` prevents row numbers from being included in the file.\n",
    "​\n",
    "- `print(\"Saved: movies.csv\")`  \n",
    "  Prints a message confirming the file was saved."
   ]
  },
  {
   "cell_type": "code",
   "execution_count": 10,
   "metadata": {
    "id": "0YwVuebp8u46"
   },
   "outputs": [
    {
     "name": "stdout",
     "output_type": "stream",
     "text": [
      "Saved: users.csv\n"
     ]
    }
   ],
   "source": [
    "# users\n",
    "df_users.to_csv(\"users.csv\", index=False)\n",
    "print(\"Saved: users.csv\")"
   ]
  },
  {
   "cell_type": "markdown",
   "metadata": {},
   "source": [
    "#### Code Explanation\n",
    "\n",
    "- `df_users.to_csv(\"users.csv\", index=False)`  \n",
    "  Saves the `df_users` DataFrame to a file named `users.csv`.  \n",
    "  - `index=False` ensures row numbers are not saved in the file.\n",
    "\n",
    "- `print(\"Saved: users.csv\")`  \n",
    "  Displays a confirmation message after saving."
   ]
  },
  {
   "cell_type": "markdown",
   "metadata": {
    "id": "s3S1y82cCYxx"
   },
   "source": [
    "**Display the first 10 rows of each file.**"
   ]
  },
  {
   "cell_type": "code",
   "execution_count": 11,
   "metadata": {
    "id": "x5ZOXTqnCPgw",
    "scrolled": true
   },
   "outputs": [
    {
     "data": {
      "text/html": [
       "<div>\n",
       "<style scoped>\n",
       "    .dataframe tbody tr th:only-of-type {\n",
       "        vertical-align: middle;\n",
       "    }\n",
       "\n",
       "    .dataframe tbody tr th {\n",
       "        vertical-align: top;\n",
       "    }\n",
       "\n",
       "    .dataframe thead th {\n",
       "        text-align: right;\n",
       "    }\n",
       "</style>\n",
       "<table border=\"1\" class=\"dataframe\">\n",
       "  <thead>\n",
       "    <tr style=\"text-align: right;\">\n",
       "      <th></th>\n",
       "      <th>user_id</th>\n",
       "      <th>movie_id</th>\n",
       "      <th>rating</th>\n",
       "      <th>timestamp</th>\n",
       "    </tr>\n",
       "  </thead>\n",
       "  <tbody>\n",
       "    <tr>\n",
       "      <th>0</th>\n",
       "      <td>196</td>\n",
       "      <td>242</td>\n",
       "      <td>3</td>\n",
       "      <td>881250949</td>\n",
       "    </tr>\n",
       "    <tr>\n",
       "      <th>1</th>\n",
       "      <td>186</td>\n",
       "      <td>302</td>\n",
       "      <td>3</td>\n",
       "      <td>891717742</td>\n",
       "    </tr>\n",
       "    <tr>\n",
       "      <th>2</th>\n",
       "      <td>22</td>\n",
       "      <td>377</td>\n",
       "      <td>1</td>\n",
       "      <td>878887116</td>\n",
       "    </tr>\n",
       "    <tr>\n",
       "      <th>3</th>\n",
       "      <td>244</td>\n",
       "      <td>51</td>\n",
       "      <td>2</td>\n",
       "      <td>880606923</td>\n",
       "    </tr>\n",
       "    <tr>\n",
       "      <th>4</th>\n",
       "      <td>166</td>\n",
       "      <td>346</td>\n",
       "      <td>1</td>\n",
       "      <td>886397596</td>\n",
       "    </tr>\n",
       "    <tr>\n",
       "      <th>5</th>\n",
       "      <td>298</td>\n",
       "      <td>474</td>\n",
       "      <td>4</td>\n",
       "      <td>884182806</td>\n",
       "    </tr>\n",
       "    <tr>\n",
       "      <th>6</th>\n",
       "      <td>115</td>\n",
       "      <td>265</td>\n",
       "      <td>2</td>\n",
       "      <td>881171488</td>\n",
       "    </tr>\n",
       "    <tr>\n",
       "      <th>7</th>\n",
       "      <td>253</td>\n",
       "      <td>465</td>\n",
       "      <td>5</td>\n",
       "      <td>891628467</td>\n",
       "    </tr>\n",
       "    <tr>\n",
       "      <th>8</th>\n",
       "      <td>305</td>\n",
       "      <td>451</td>\n",
       "      <td>3</td>\n",
       "      <td>886324817</td>\n",
       "    </tr>\n",
       "    <tr>\n",
       "      <th>9</th>\n",
       "      <td>6</td>\n",
       "      <td>86</td>\n",
       "      <td>3</td>\n",
       "      <td>883603013</td>\n",
       "    </tr>\n",
       "  </tbody>\n",
       "</table>\n",
       "</div>"
      ],
      "text/plain": [
       "   user_id  movie_id  rating  timestamp\n",
       "0      196       242       3  881250949\n",
       "1      186       302       3  891717742\n",
       "2       22       377       1  878887116\n",
       "3      244        51       2  880606923\n",
       "4      166       346       1  886397596\n",
       "5      298       474       4  884182806\n",
       "6      115       265       2  881171488\n",
       "7      253       465       5  891628467\n",
       "8      305       451       3  886324817\n",
       "9        6        86       3  883603013"
      ]
     },
     "execution_count": 11,
     "metadata": {},
     "output_type": "execute_result"
    }
   ],
   "source": [
    "\n",
    "# ratings\n",
    "df_ratings.head(10)"
   ]
  },
  {
   "cell_type": "markdown",
   "metadata": {},
   "source": [
    "#### Code Explanation \n",
    "\n",
    "- `df_ratings.head(10)`  \n",
    "  Displays the first 10 rows of the `df_ratings` DataFrame.  \n",
    "  Useful for quickly checking the structure and contents of the data."
   ]
  },
  {
   "cell_type": "code",
   "execution_count": 12,
   "metadata": {
    "id": "AzuqiRkrCdfZ",
    "scrolled": true
   },
   "outputs": [
    {
     "data": {
      "text/html": [
       "<div>\n",
       "<style scoped>\n",
       "    .dataframe tbody tr th:only-of-type {\n",
       "        vertical-align: middle;\n",
       "    }\n",
       "\n",
       "    .dataframe tbody tr th {\n",
       "        vertical-align: top;\n",
       "    }\n",
       "\n",
       "    .dataframe thead th {\n",
       "        text-align: right;\n",
       "    }\n",
       "</style>\n",
       "<table border=\"1\" class=\"dataframe\">\n",
       "  <thead>\n",
       "    <tr style=\"text-align: right;\">\n",
       "      <th></th>\n",
       "      <th>movie_id</th>\n",
       "      <th>title</th>\n",
       "      <th>release_date</th>\n",
       "    </tr>\n",
       "  </thead>\n",
       "  <tbody>\n",
       "    <tr>\n",
       "      <th>0</th>\n",
       "      <td>1</td>\n",
       "      <td>Toy Story (1995)</td>\n",
       "      <td>01-Jan-1995</td>\n",
       "    </tr>\n",
       "    <tr>\n",
       "      <th>1</th>\n",
       "      <td>2</td>\n",
       "      <td>GoldenEye (1995)</td>\n",
       "      <td>01-Jan-1995</td>\n",
       "    </tr>\n",
       "    <tr>\n",
       "      <th>2</th>\n",
       "      <td>3</td>\n",
       "      <td>Four Rooms (1995)</td>\n",
       "      <td>01-Jan-1995</td>\n",
       "    </tr>\n",
       "    <tr>\n",
       "      <th>3</th>\n",
       "      <td>4</td>\n",
       "      <td>Get Shorty (1995)</td>\n",
       "      <td>01-Jan-1995</td>\n",
       "    </tr>\n",
       "    <tr>\n",
       "      <th>4</th>\n",
       "      <td>5</td>\n",
       "      <td>Copycat (1995)</td>\n",
       "      <td>01-Jan-1995</td>\n",
       "    </tr>\n",
       "    <tr>\n",
       "      <th>5</th>\n",
       "      <td>6</td>\n",
       "      <td>Shanghai Triad (Yao a yao yao dao waipo qiao) ...</td>\n",
       "      <td>01-Jan-1995</td>\n",
       "    </tr>\n",
       "    <tr>\n",
       "      <th>6</th>\n",
       "      <td>7</td>\n",
       "      <td>Twelve Monkeys (1995)</td>\n",
       "      <td>01-Jan-1995</td>\n",
       "    </tr>\n",
       "    <tr>\n",
       "      <th>7</th>\n",
       "      <td>8</td>\n",
       "      <td>Babe (1995)</td>\n",
       "      <td>01-Jan-1995</td>\n",
       "    </tr>\n",
       "    <tr>\n",
       "      <th>8</th>\n",
       "      <td>9</td>\n",
       "      <td>Dead Man Walking (1995)</td>\n",
       "      <td>01-Jan-1995</td>\n",
       "    </tr>\n",
       "    <tr>\n",
       "      <th>9</th>\n",
       "      <td>10</td>\n",
       "      <td>Richard III (1995)</td>\n",
       "      <td>22-Jan-1996</td>\n",
       "    </tr>\n",
       "  </tbody>\n",
       "</table>\n",
       "</div>"
      ],
      "text/plain": [
       "   movie_id                                              title release_date\n",
       "0         1                                   Toy Story (1995)  01-Jan-1995\n",
       "1         2                                   GoldenEye (1995)  01-Jan-1995\n",
       "2         3                                  Four Rooms (1995)  01-Jan-1995\n",
       "3         4                                  Get Shorty (1995)  01-Jan-1995\n",
       "4         5                                     Copycat (1995)  01-Jan-1995\n",
       "5         6  Shanghai Triad (Yao a yao yao dao waipo qiao) ...  01-Jan-1995\n",
       "6         7                              Twelve Monkeys (1995)  01-Jan-1995\n",
       "7         8                                        Babe (1995)  01-Jan-1995\n",
       "8         9                            Dead Man Walking (1995)  01-Jan-1995\n",
       "9        10                                 Richard III (1995)  22-Jan-1996"
      ]
     },
     "execution_count": 12,
     "metadata": {},
     "output_type": "execute_result"
    }
   ],
   "source": [
    "# movies\n",
    "df_movies.head(10)"
   ]
  },
  {
   "cell_type": "markdown",
   "metadata": {},
   "source": [
    "#### Code Explanation\n",
    "\n",
    "- `df_movies.head(10)`  \n",
    "  Displays the first 10 rows of the `df_movies` DataFrame.  \n",
    "  Helps verify the movie titles, release dates, and format of the data."
   ]
  },
  {
   "cell_type": "code",
   "execution_count": 13,
   "metadata": {
    "id": "FE9hcM9mCewe",
    "scrolled": true
   },
   "outputs": [
    {
     "data": {
      "text/html": [
       "<div>\n",
       "<style scoped>\n",
       "    .dataframe tbody tr th:only-of-type {\n",
       "        vertical-align: middle;\n",
       "    }\n",
       "\n",
       "    .dataframe tbody tr th {\n",
       "        vertical-align: top;\n",
       "    }\n",
       "\n",
       "    .dataframe thead th {\n",
       "        text-align: right;\n",
       "    }\n",
       "</style>\n",
       "<table border=\"1\" class=\"dataframe\">\n",
       "  <thead>\n",
       "    <tr style=\"text-align: right;\">\n",
       "      <th></th>\n",
       "      <th>user_id</th>\n",
       "      <th>age</th>\n",
       "      <th>gender</th>\n",
       "      <th>occupation</th>\n",
       "    </tr>\n",
       "  </thead>\n",
       "  <tbody>\n",
       "    <tr>\n",
       "      <th>0</th>\n",
       "      <td>1</td>\n",
       "      <td>24</td>\n",
       "      <td>M</td>\n",
       "      <td>technician</td>\n",
       "    </tr>\n",
       "    <tr>\n",
       "      <th>1</th>\n",
       "      <td>2</td>\n",
       "      <td>53</td>\n",
       "      <td>F</td>\n",
       "      <td>other</td>\n",
       "    </tr>\n",
       "    <tr>\n",
       "      <th>2</th>\n",
       "      <td>3</td>\n",
       "      <td>23</td>\n",
       "      <td>M</td>\n",
       "      <td>writer</td>\n",
       "    </tr>\n",
       "    <tr>\n",
       "      <th>3</th>\n",
       "      <td>4</td>\n",
       "      <td>24</td>\n",
       "      <td>M</td>\n",
       "      <td>technician</td>\n",
       "    </tr>\n",
       "    <tr>\n",
       "      <th>4</th>\n",
       "      <td>5</td>\n",
       "      <td>33</td>\n",
       "      <td>F</td>\n",
       "      <td>other</td>\n",
       "    </tr>\n",
       "    <tr>\n",
       "      <th>5</th>\n",
       "      <td>6</td>\n",
       "      <td>42</td>\n",
       "      <td>M</td>\n",
       "      <td>executive</td>\n",
       "    </tr>\n",
       "    <tr>\n",
       "      <th>6</th>\n",
       "      <td>7</td>\n",
       "      <td>57</td>\n",
       "      <td>M</td>\n",
       "      <td>administrator</td>\n",
       "    </tr>\n",
       "    <tr>\n",
       "      <th>7</th>\n",
       "      <td>8</td>\n",
       "      <td>36</td>\n",
       "      <td>M</td>\n",
       "      <td>administrator</td>\n",
       "    </tr>\n",
       "    <tr>\n",
       "      <th>8</th>\n",
       "      <td>9</td>\n",
       "      <td>29</td>\n",
       "      <td>M</td>\n",
       "      <td>student</td>\n",
       "    </tr>\n",
       "    <tr>\n",
       "      <th>9</th>\n",
       "      <td>10</td>\n",
       "      <td>53</td>\n",
       "      <td>M</td>\n",
       "      <td>lawyer</td>\n",
       "    </tr>\n",
       "  </tbody>\n",
       "</table>\n",
       "</div>"
      ],
      "text/plain": [
       "   user_id  age gender     occupation\n",
       "0        1   24      M     technician\n",
       "1        2   53      F          other\n",
       "2        3   23      M         writer\n",
       "3        4   24      M     technician\n",
       "4        5   33      F          other\n",
       "5        6   42      M      executive\n",
       "6        7   57      M  administrator\n",
       "7        8   36      M  administrator\n",
       "8        9   29      M        student\n",
       "9       10   53      M         lawyer"
      ]
     },
     "execution_count": 13,
     "metadata": {},
     "output_type": "execute_result"
    }
   ],
   "source": [
    "# users\n",
    "df_users.head(10)"
   ]
  },
  {
   "cell_type": "markdown",
   "metadata": {},
   "source": [
    "#### Code Explanation\n",
    "\n",
    "- `df_users.head(10)`  \n",
    "  Shows the first 10 rows of the `df_users` DataFrame.  \n",
    "  Useful for checking user details like age, gender, and occupation.\n"
   ]
  },
  {
   "cell_type": "markdown",
   "metadata": {
    "id": "i38iDIz-DiVj"
   },
   "source": [
    "### Data Cleaning and Exploration with Pandas  \n",
    "\n",
    "After loading the dataset, it’s important to clean and explore the data to ensure consistency and accuracy. Below are key **pandas** functions for cleaning and understanding the dataset.\n",
    "\n",
    "#### 1. Handle Missing Values  \n",
    "- `df.dropna()` – Removes rows with missing values.  \n",
    "- `df.fillna(value)` – Fills missing values with a specified value.  \n",
    "\n",
    "#### 2. Remove Duplicates  \n",
    "- `df.drop_duplicates()` – Drops duplicate rows from the dataset.  \n",
    "\n",
    "#### 3. Handle Incorrect Data Types  \n",
    "- `df.astype(dtype)` – Converts columns to the appropriate data type.  \n",
    "\n",
    "#### 4. Filter Outliers (if applicable)  \n",
    "- `df[df['column_name'] > threshold]` – Filters rows based on a condition.  \n",
    "\n",
    "#### 5. Rename Columns (if needed)  \n",
    "- `df.rename(columns={'old_name': 'new_name'})` – Renames columns for clarity.  \n",
    "\n",
    "#### 6. Reset Index  \n",
    "- `df.reset_index(drop=True, inplace=True)` – Resets the index after cleaning.  \n",
    "\n",
    "### Data Exploration Functions  \n",
    "\n",
    "To better understand the dataset, use these **pandas** functions:  \n",
    "\n",
    "- `df.shape` – Returns the number of rows and columns in the dataset.  \n",
    "- `df.nunique()` – Displays the number of unique values in each column.  \n",
    "- `df['column_name'].unique()` – Returns unique values in a specific column.  \n",
    "\n",
    "**Example Usage in Pandas:**  \n",
    "```python\n",
    "import pandas as pd\n",
    "\n",
    "# Load dataset\n",
    "df = pd.read_csv(\"your_file.csv\")\n",
    "\n",
    "# Drop missing values\n",
    "df_cleaned = df.dropna()\n",
    "\n",
    "# Remove duplicate rows\n",
    "df_cleaned = df_cleaned.drop_duplicates()\n",
    "\n",
    "# Convert 'timestamp' column to datetime format\n",
    "df_cleaned['timestamp'] = pd.to_datetime(df_cleaned['timestamp'])\n",
    "\n",
    "# Display dataset shape\n",
    "print(\"Dataset shape:\", df_cleaned.shape)\n",
    "\n",
    "# Display number of unique values in each column\n",
    "print(\"Unique values per column:\\n\", df_cleaned.nunique())\n",
    "\n",
    "# Display unique movie IDs\n",
    "print(\"Unique movie IDs:\", df_cleaned['movie_id'].unique()[:10])  # Show first 10 unique movie IDs\n"
   ]
  },
  {
   "cell_type": "markdown",
   "metadata": {
    "id": "4cwmLON4EItA"
   },
   "source": [
    "**Note:** The functions mentioned above are some of the widely used **pandas** functions for data cleaning and exploration. However, it is not necessary that all of these functions will be required in the exercises below. Use them as needed based on the dataset and the specific tasks."
   ]
  },
  {
   "cell_type": "markdown",
   "metadata": {
    "id": "Tn0bLOSACxMP"
   },
   "source": [
    "**Convert Timestamps into Readable dates.**"
   ]
  },
  {
   "cell_type": "code",
   "execution_count": 14,
   "metadata": {
    "id": "9MwnDxeeCf8b",
    "scrolled": true
   },
   "outputs": [
    {
     "data": {
      "text/html": [
       "<div>\n",
       "<style scoped>\n",
       "    .dataframe tbody tr th:only-of-type {\n",
       "        vertical-align: middle;\n",
       "    }\n",
       "\n",
       "    .dataframe tbody tr th {\n",
       "        vertical-align: top;\n",
       "    }\n",
       "\n",
       "    .dataframe thead th {\n",
       "        text-align: right;\n",
       "    }\n",
       "</style>\n",
       "<table border=\"1\" class=\"dataframe\">\n",
       "  <thead>\n",
       "    <tr style=\"text-align: right;\">\n",
       "      <th></th>\n",
       "      <th>timestamp</th>\n",
       "      <th>datetime</th>\n",
       "    </tr>\n",
       "  </thead>\n",
       "  <tbody>\n",
       "    <tr>\n",
       "      <th>0</th>\n",
       "      <td>881250949</td>\n",
       "      <td>1997-12-04 15:55:49</td>\n",
       "    </tr>\n",
       "    <tr>\n",
       "      <th>1</th>\n",
       "      <td>891717742</td>\n",
       "      <td>1998-04-04 19:22:22</td>\n",
       "    </tr>\n",
       "    <tr>\n",
       "      <th>2</th>\n",
       "      <td>878887116</td>\n",
       "      <td>1997-11-07 07:18:36</td>\n",
       "    </tr>\n",
       "    <tr>\n",
       "      <th>3</th>\n",
       "      <td>880606923</td>\n",
       "      <td>1997-11-27 05:02:03</td>\n",
       "    </tr>\n",
       "    <tr>\n",
       "      <th>4</th>\n",
       "      <td>886397596</td>\n",
       "      <td>1998-02-02 05:33:16</td>\n",
       "    </tr>\n",
       "  </tbody>\n",
       "</table>\n",
       "</div>"
      ],
      "text/plain": [
       "   timestamp            datetime\n",
       "0  881250949 1997-12-04 15:55:49\n",
       "1  891717742 1998-04-04 19:22:22\n",
       "2  878887116 1997-11-07 07:18:36\n",
       "3  880606923 1997-11-27 05:02:03\n",
       "4  886397596 1998-02-02 05:33:16"
      ]
     },
     "execution_count": 14,
     "metadata": {},
     "output_type": "execute_result"
    }
   ],
   "source": [
    "# ratings\n",
    "\n",
    "# Convert the timestamp column to datetime readable format\n",
    "df_ratings[\"datetime\"] = pd.to_datetime(df_ratings[\"timestamp\"], unit=\"s\")\n",
    "\n",
    "# Displaying first few rows to verify\n",
    "df_ratings[[\"timestamp\", \"datetime\"]].head()"
   ]
  },
  {
   "cell_type": "markdown",
   "metadata": {},
   "source": [
    "#### Code Explanation\n",
    "\n",
    "- `df_ratings[\"datetime\"] = pd.to_datetime(df_ratings[\"timestamp\"], unit=\"s\")`  \n",
    "  Converts the Unix timestamp in the `timestamp` column to a human-readable datetime format.  \n",
    "  - `unit=\"s\"` specifies that the timestamp is in seconds.\n",
    "\n",
    "- `df_ratings[[\"timestamp\", \"datetime\"]].head()`  \n",
    "  Displays the first few rows of the original and converted columns to verify the change.\n"
   ]
  },
  {
   "cell_type": "markdown",
   "metadata": {
    "id": "oKJB0a9CE0Z4"
   },
   "source": [
    "**Check for Missing Values**"
   ]
  },
  {
   "cell_type": "code",
   "execution_count": 15,
   "metadata": {
    "id": "iYf4NM47DL7q",
    "scrolled": true
   },
   "outputs": [
    {
     "data": {
      "text/plain": [
       "user_id      0\n",
       "movie_id     0\n",
       "rating       0\n",
       "timestamp    0\n",
       "datetime     0\n",
       "dtype: int64"
      ]
     },
     "execution_count": 15,
     "metadata": {},
     "output_type": "execute_result"
    }
   ],
   "source": [
    "# ratings\n",
    "df_ratings.isnull().sum()"
   ]
  },
  {
   "cell_type": "markdown",
   "metadata": {},
   "source": [
    "#### Code Explanation\n",
    "\n",
    "- `df_ratings.isnull().sum()`  \n",
    "  Checks each column in the `df_ratings` DataFrame for missing (null) values.  \n",
    "  Returns the total count of null values per column.\n"
   ]
  },
  {
   "cell_type": "code",
   "execution_count": 16,
   "metadata": {
    "id": "hgM78fNaFH2q"
   },
   "outputs": [
    {
     "data": {
      "text/plain": [
       "movie_id        0\n",
       "title           0\n",
       "release_date    1\n",
       "dtype: int64"
      ]
     },
     "execution_count": 16,
     "metadata": {},
     "output_type": "execute_result"
    }
   ],
   "source": [
    "# movies\n",
    "df_movies.isnull().sum()"
   ]
  },
  {
   "cell_type": "markdown",
   "metadata": {},
   "source": [
    "#### Code Explanation\n",
    "\n",
    "- `df_movies.isnull().sum()`  \n",
    "  Identifies missing (null) values in each column of the `df_movies` DataFrame.  \n",
    "  Returns the count of nulls per column.\n"
   ]
  },
  {
   "cell_type": "code",
   "execution_count": 17,
   "metadata": {},
   "outputs": [
    {
     "data": {
      "text/plain": [
       "movie_id        0\n",
       "title           0\n",
       "release_date    0\n",
       "dtype: int64"
      ]
     },
     "execution_count": 17,
     "metadata": {},
     "output_type": "execute_result"
    }
   ],
   "source": [
    "## Handling the missing values\n",
    "\n",
    "df_movies[\"release_date\"].fillna(\"1990-01-01\", inplace=True)\n",
    "df_movies.isnull().sum()"
   ]
  },
  {
   "cell_type": "markdown",
   "metadata": {},
   "source": [
    "#### Code Explanation\n",
    "\n",
    "- `df_movies[\"release_date\"].fillna(\"1990-01-01\", inplace=True)`  \n",
    "  Replaces any missing `release_date` values with the default date `\"1990-01-01\"`.  \n",
    "  This ensures consistency in the data without dropping any movie records.\n",
    "\n",
    "- `df_movies.isnull().sum()`  \n",
    "  Confirms that all missing values have been handled by checking for remaining nulls.\n"
   ]
  },
  {
   "cell_type": "code",
   "execution_count": 18,
   "metadata": {
    "id": "jE8J_cajFA5n"
   },
   "outputs": [
    {
     "data": {
      "text/plain": [
       "user_id       0\n",
       "age           0\n",
       "gender        0\n",
       "occupation    0\n",
       "dtype: int64"
      ]
     },
     "execution_count": 18,
     "metadata": {},
     "output_type": "execute_result"
    }
   ],
   "source": [
    "# users\n",
    "df_users.isnull().sum()"
   ]
  },
  {
   "cell_type": "markdown",
   "metadata": {},
   "source": [
    "#### Code Explanation\n",
    "\n",
    "- `df_users.isnull().sum()`  \n",
    "  Checks each column in the `df_users` DataFrame for missing (null) values.  \n",
    "  Helps ensure data completeness before performing analysis.\n"
   ]
  },
  {
   "cell_type": "markdown",
   "metadata": {
    "id": "1WviFe7iFRoQ"
   },
   "source": [
    "**Print the total number of users, movies, and ratings.**"
   ]
  },
  {
   "cell_type": "code",
   "execution_count": 19,
   "metadata": {
    "id": "eR_QgS9aFTPb"
   },
   "outputs": [
    {
     "name": "stdout",
     "output_type": "stream",
     "text": [
      "Total Users: 943\n",
      "Total Movies: 1682\n",
      "Total Ratings: 100000\n"
     ]
    }
   ],
   "source": [
    "print(f\"Total Users: {df_users['user_id'].nunique()}\")\n",
    "print(f\"Total Movies: { df_movies['movie_id'].nunique() }\")\n",
    "print(f\"Total Ratings: {len(df_ratings)}\")"
   ]
  },
  {
   "cell_type": "markdown",
   "metadata": {},
   "source": [
    "#### Code Explanation\n",
    "\n",
    "- Counts unique users using `df_users['user_id'].nunique()`\n",
    "- Counts unique movies using `df_movies['movie_id'].nunique()`\n",
    "- Counts total ratings using `len(df_ratings)`\n"
   ]
  },
  {
   "cell_type": "markdown",
   "metadata": {
    "id": "NjxACjUgFwsk"
   },
   "source": [
    "## **Part 2: Collaborative Filtering-Based Recommendation**"
   ]
  },
  {
   "cell_type": "markdown",
   "metadata": {
    "id": "AyeSaLpRGYuC"
   },
   "source": [
    "### **Create a User-Item Matrix**"
   ]
  },
  {
   "cell_type": "markdown",
   "metadata": {
    "id": "3tKsv-7XHRq2"
   },
   "source": [
    "#### Instructions for Creating a User-Movie Rating Matrix"
   ]
  },
  {
   "cell_type": "markdown",
   "metadata": {
    "id": "lLayr0YbH4tB"
   },
   "source": [
    "In this exercise, you will create a user-movie rating matrix using **pandas**. This matrix will represent the ratings that users have given to different movies.\n",
    "\n",
    "1. **Dataset Overview**:  \n",
    "   The dataset has already been loaded. It includes the following key columns:\n",
    "   - `user_id`: The ID of the user.\n",
    "   - `movie_id`: The ID of the movie.\n",
    "   - `ratings`: The rating the user gave to the movie.\n",
    "\n",
    "2. **Create the User-Movie Rating Matrix**:  \n",
    "   Use the **`pivot()`** function in **pandas** to reshape the data. Your goal is to create a matrix where:\n",
    "   - Each **row** represents a **user**.\n",
    "   - Each **column** represents a **movie**.\n",
    "   - Each **cell** contains the **rating** that the user has given to the movie.\n",
    "\n",
    "   Specify the following parameters for the `pivot()` function:\n",
    "   - **`index`**: The `user_id` column (this will define the rows).\n",
    "   - **`columns`**: The `movie_id` column (this will define the columns).\n",
    "   - **`values`**: The `rating` column (this will fill the matrix with ratings).\n",
    "\n",
    "3. **Inspect the Matrix**:  \n",
    "   After creating the matrix, examine the first few rows of the resulting matrix to ensure it has been constructed correctly.\n",
    "\n",
    "4. **Handle Missing Values**:  \n",
    "   It's likely that some users have not rated every movie, resulting in `NaN` values in the matrix. You will need to handle these missing values. Consider the following options:\n",
    "   - **Fill with 0**: If you wish to represent missing ratings as zeros (indicating no rating).\n",
    "   - **Fill with the average rating**: Alternatively, replace missing values with the average rating for each movie."
   ]
  },
  {
   "cell_type": "markdown",
   "metadata": {
    "id": "E_cdPXYeaD-l"
   },
   "source": [
    "**Create the user-movie rating matrix using the `pivot()` function.**"
   ]
  },
  {
   "cell_type": "code",
   "execution_count": 20,
   "metadata": {
    "id": "Ie858yKEUSfc"
   },
   "outputs": [
    {
     "name": "stdout",
     "output_type": "stream",
     "text": [
      "movie_id  1     2     3     4     5     6     7     8     9     10    ...  \\\n",
      "user_id                                                               ...   \n",
      "1          5.0   3.0   4.0   3.0   3.0   5.0   4.0   1.0   5.0   3.0  ...   \n",
      "2          4.0   0.0   0.0   0.0   0.0   0.0   0.0   0.0   0.0   2.0  ...   \n",
      "3          0.0   0.0   0.0   0.0   0.0   0.0   0.0   0.0   0.0   0.0  ...   \n",
      "4          0.0   0.0   0.0   0.0   0.0   0.0   0.0   0.0   0.0   0.0  ...   \n",
      "5          4.0   3.0   0.0   0.0   0.0   0.0   0.0   0.0   0.0   0.0  ...   \n",
      "\n",
      "movie_id  1673  1674  1675  1676  1677  1678  1679  1680  1681  1682  \n",
      "user_id                                                               \n",
      "1          0.0   0.0   0.0   0.0   0.0   0.0   0.0   0.0   0.0   0.0  \n",
      "2          0.0   0.0   0.0   0.0   0.0   0.0   0.0   0.0   0.0   0.0  \n",
      "3          0.0   0.0   0.0   0.0   0.0   0.0   0.0   0.0   0.0   0.0  \n",
      "4          0.0   0.0   0.0   0.0   0.0   0.0   0.0   0.0   0.0   0.0  \n",
      "5          0.0   0.0   0.0   0.0   0.0   0.0   0.0   0.0   0.0   0.0  \n",
      "\n",
      "[5 rows x 1682 columns]\n"
     ]
    }
   ],
   "source": [
    "# Create the pivot table (user-movie matrix)\n",
    "user_movie_matrix = df_ratings.pivot(index='user_id', columns='movie_id', values='rating')\n",
    "\n",
    "# Fill missing values (NaNs) with 0 \n",
    "user_movie_matrix = user_movie_matrix.fillna(0)\n",
    "\n",
    "# Display to verify\n",
    "print(user_movie_matrix.head())"
   ]
  },
  {
   "cell_type": "markdown",
   "metadata": {},
   "source": [
    "#### Code Explanation\n",
    "\n",
    "- Creates a pivot table where:\n",
    "  - Rows = users (`user_id`)\n",
    "  - Columns = movies (`movie_id`)\n",
    "  - Values = ratings\n",
    "\n",
    "- Fills missing values (`NaN`) with 0 using `.fillna(0)`\n",
    "\n",
    "- Displays the first few rows to verify the matrix.\n"
   ]
  },
  {
   "cell_type": "markdown",
   "metadata": {
    "id": "tyb3h9FmaVGH"
   },
   "source": [
    "**Display the matrix to verify the transformation.**"
   ]
  },
  {
   "cell_type": "code",
   "execution_count": 21,
   "metadata": {
    "id": "16abaOrXabN_"
   },
   "outputs": [
    {
     "name": "stdout",
     "output_type": "stream",
     "text": [
      "Transformed User-Movie Rating Matrix:\n"
     ]
    },
    {
     "data": {
      "text/html": [
       "<div>\n",
       "<style scoped>\n",
       "    .dataframe tbody tr th:only-of-type {\n",
       "        vertical-align: middle;\n",
       "    }\n",
       "\n",
       "    .dataframe tbody tr th {\n",
       "        vertical-align: top;\n",
       "    }\n",
       "\n",
       "    .dataframe thead th {\n",
       "        text-align: right;\n",
       "    }\n",
       "</style>\n",
       "<table border=\"1\" class=\"dataframe\">\n",
       "  <thead>\n",
       "    <tr style=\"text-align: right;\">\n",
       "      <th>movie_id</th>\n",
       "      <th>1</th>\n",
       "      <th>2</th>\n",
       "      <th>3</th>\n",
       "      <th>4</th>\n",
       "      <th>5</th>\n",
       "      <th>6</th>\n",
       "      <th>7</th>\n",
       "      <th>8</th>\n",
       "      <th>9</th>\n",
       "      <th>10</th>\n",
       "      <th>...</th>\n",
       "      <th>1673</th>\n",
       "      <th>1674</th>\n",
       "      <th>1675</th>\n",
       "      <th>1676</th>\n",
       "      <th>1677</th>\n",
       "      <th>1678</th>\n",
       "      <th>1679</th>\n",
       "      <th>1680</th>\n",
       "      <th>1681</th>\n",
       "      <th>1682</th>\n",
       "    </tr>\n",
       "    <tr>\n",
       "      <th>user_id</th>\n",
       "      <th></th>\n",
       "      <th></th>\n",
       "      <th></th>\n",
       "      <th></th>\n",
       "      <th></th>\n",
       "      <th></th>\n",
       "      <th></th>\n",
       "      <th></th>\n",
       "      <th></th>\n",
       "      <th></th>\n",
       "      <th></th>\n",
       "      <th></th>\n",
       "      <th></th>\n",
       "      <th></th>\n",
       "      <th></th>\n",
       "      <th></th>\n",
       "      <th></th>\n",
       "      <th></th>\n",
       "      <th></th>\n",
       "      <th></th>\n",
       "      <th></th>\n",
       "    </tr>\n",
       "  </thead>\n",
       "  <tbody>\n",
       "    <tr>\n",
       "      <th>1</th>\n",
       "      <td>5.0</td>\n",
       "      <td>3.0</td>\n",
       "      <td>4.0</td>\n",
       "      <td>3.0</td>\n",
       "      <td>3.0</td>\n",
       "      <td>5.0</td>\n",
       "      <td>4.0</td>\n",
       "      <td>1.0</td>\n",
       "      <td>5.0</td>\n",
       "      <td>3.0</td>\n",
       "      <td>...</td>\n",
       "      <td>0.0</td>\n",
       "      <td>0.0</td>\n",
       "      <td>0.0</td>\n",
       "      <td>0.0</td>\n",
       "      <td>0.0</td>\n",
       "      <td>0.0</td>\n",
       "      <td>0.0</td>\n",
       "      <td>0.0</td>\n",
       "      <td>0.0</td>\n",
       "      <td>0.0</td>\n",
       "    </tr>\n",
       "    <tr>\n",
       "      <th>2</th>\n",
       "      <td>4.0</td>\n",
       "      <td>0.0</td>\n",
       "      <td>0.0</td>\n",
       "      <td>0.0</td>\n",
       "      <td>0.0</td>\n",
       "      <td>0.0</td>\n",
       "      <td>0.0</td>\n",
       "      <td>0.0</td>\n",
       "      <td>0.0</td>\n",
       "      <td>2.0</td>\n",
       "      <td>...</td>\n",
       "      <td>0.0</td>\n",
       "      <td>0.0</td>\n",
       "      <td>0.0</td>\n",
       "      <td>0.0</td>\n",
       "      <td>0.0</td>\n",
       "      <td>0.0</td>\n",
       "      <td>0.0</td>\n",
       "      <td>0.0</td>\n",
       "      <td>0.0</td>\n",
       "      <td>0.0</td>\n",
       "    </tr>\n",
       "    <tr>\n",
       "      <th>3</th>\n",
       "      <td>0.0</td>\n",
       "      <td>0.0</td>\n",
       "      <td>0.0</td>\n",
       "      <td>0.0</td>\n",
       "      <td>0.0</td>\n",
       "      <td>0.0</td>\n",
       "      <td>0.0</td>\n",
       "      <td>0.0</td>\n",
       "      <td>0.0</td>\n",
       "      <td>0.0</td>\n",
       "      <td>...</td>\n",
       "      <td>0.0</td>\n",
       "      <td>0.0</td>\n",
       "      <td>0.0</td>\n",
       "      <td>0.0</td>\n",
       "      <td>0.0</td>\n",
       "      <td>0.0</td>\n",
       "      <td>0.0</td>\n",
       "      <td>0.0</td>\n",
       "      <td>0.0</td>\n",
       "      <td>0.0</td>\n",
       "    </tr>\n",
       "    <tr>\n",
       "      <th>4</th>\n",
       "      <td>0.0</td>\n",
       "      <td>0.0</td>\n",
       "      <td>0.0</td>\n",
       "      <td>0.0</td>\n",
       "      <td>0.0</td>\n",
       "      <td>0.0</td>\n",
       "      <td>0.0</td>\n",
       "      <td>0.0</td>\n",
       "      <td>0.0</td>\n",
       "      <td>0.0</td>\n",
       "      <td>...</td>\n",
       "      <td>0.0</td>\n",
       "      <td>0.0</td>\n",
       "      <td>0.0</td>\n",
       "      <td>0.0</td>\n",
       "      <td>0.0</td>\n",
       "      <td>0.0</td>\n",
       "      <td>0.0</td>\n",
       "      <td>0.0</td>\n",
       "      <td>0.0</td>\n",
       "      <td>0.0</td>\n",
       "    </tr>\n",
       "    <tr>\n",
       "      <th>5</th>\n",
       "      <td>4.0</td>\n",
       "      <td>3.0</td>\n",
       "      <td>0.0</td>\n",
       "      <td>0.0</td>\n",
       "      <td>0.0</td>\n",
       "      <td>0.0</td>\n",
       "      <td>0.0</td>\n",
       "      <td>0.0</td>\n",
       "      <td>0.0</td>\n",
       "      <td>0.0</td>\n",
       "      <td>...</td>\n",
       "      <td>0.0</td>\n",
       "      <td>0.0</td>\n",
       "      <td>0.0</td>\n",
       "      <td>0.0</td>\n",
       "      <td>0.0</td>\n",
       "      <td>0.0</td>\n",
       "      <td>0.0</td>\n",
       "      <td>0.0</td>\n",
       "      <td>0.0</td>\n",
       "      <td>0.0</td>\n",
       "    </tr>\n",
       "  </tbody>\n",
       "</table>\n",
       "<p>5 rows × 1682 columns</p>\n",
       "</div>"
      ],
      "text/plain": [
       "movie_id  1     2     3     4     5     6     7     8     9     10    ...  \\\n",
       "user_id                                                               ...   \n",
       "1          5.0   3.0   4.0   3.0   3.0   5.0   4.0   1.0   5.0   3.0  ...   \n",
       "2          4.0   0.0   0.0   0.0   0.0   0.0   0.0   0.0   0.0   2.0  ...   \n",
       "3          0.0   0.0   0.0   0.0   0.0   0.0   0.0   0.0   0.0   0.0  ...   \n",
       "4          0.0   0.0   0.0   0.0   0.0   0.0   0.0   0.0   0.0   0.0  ...   \n",
       "5          4.0   3.0   0.0   0.0   0.0   0.0   0.0   0.0   0.0   0.0  ...   \n",
       "\n",
       "movie_id  1673  1674  1675  1676  1677  1678  1679  1680  1681  1682  \n",
       "user_id                                                               \n",
       "1          0.0   0.0   0.0   0.0   0.0   0.0   0.0   0.0   0.0   0.0  \n",
       "2          0.0   0.0   0.0   0.0   0.0   0.0   0.0   0.0   0.0   0.0  \n",
       "3          0.0   0.0   0.0   0.0   0.0   0.0   0.0   0.0   0.0   0.0  \n",
       "4          0.0   0.0   0.0   0.0   0.0   0.0   0.0   0.0   0.0   0.0  \n",
       "5          0.0   0.0   0.0   0.0   0.0   0.0   0.0   0.0   0.0   0.0  \n",
       "\n",
       "[5 rows x 1682 columns]"
      ]
     },
     "execution_count": 21,
     "metadata": {},
     "output_type": "execute_result"
    }
   ],
   "source": [
    "# Display the transformed user-movie rating matrix\n",
    "print(\"Transformed User-Movie Rating Matrix:\")\n",
    "user_movie_matrix.head()"
   ]
  },
  {
   "cell_type": "markdown",
   "metadata": {},
   "source": [
    "#### Code Explanation\n",
    "\n",
    "- Prints the first few rows of the `user_movie_matrix`  \n",
    "- Shows how ratings are organized by user (rows) and movie (columns)\n"
   ]
  },
  {
   "cell_type": "markdown",
   "metadata": {
    "id": "fOXp00QSbtHk"
   },
   "source": [
    "### **User-Based Collaborative Filtering Recommender System**"
   ]
  },
  {
   "cell_type": "markdown",
   "metadata": {
    "id": "FwKBZk5Sc7YA"
   },
   "source": [
    "#### **Objective**\n",
    "In this task, you will implement a **user-based collaborative filtering** movie recommendation system using the **Movie dataset**. The goal is to recommend movies to a user based on the preferences of similar users."
   ]
  },
  {
   "cell_type": "markdown",
   "metadata": {
    "id": "fZf-Nu2rdPHR"
   },
   "source": [
    "##### **Step 1: Import Required Libraries**\n",
    "Before starting, ensure you have the necessary libraries installed. Use the following imports:\n",
    "\n",
    "```python\n",
    "import pandas as pd  # For handling data\n",
    "import numpy as np   # For numerical computations\n",
    "from sklearn.metrics.pairwise import cosine_similarity  # For computing user similarity\n",
    "```"
   ]
  },
  {
   "cell_type": "markdown",
   "metadata": {
    "id": "qzJNshMbdwyR"
   },
   "source": [
    "##### **Step 2: Compute User-User Similarity**\n",
    "- We will use **cosine similarity** to measure how similar each pair of users is based on their movie ratings.\n",
    "- Since `cosine_similarity` does not handle missing values (NaN), replace them with `0` before computation."
   ]
  },
  {
   "cell_type": "markdown",
   "metadata": {
    "id": "pkO_XtPqd4Sw"
   },
   "source": [
    "##### **Instructions:**\n",
    "1. Fill missing values with `0` using `.fillna(0)`.\n",
    "2. Compute similarity using `cosine_similarity()`.\n",
    "3. Convert the result into a **Pandas DataFrame**, with users as both row and column labels.\n",
    "\n",
    "##### **Hint:**  \n",
    "You can achieve this using the following approach:\n",
    "\n",
    "```python\n",
    "user_similarity = cosine_similarity(user_movie_matrix.fillna(0))\n",
    "user_sim_df = pd.DataFrame(user_similarity, index=user_movie_matrix.index, columns=user_movie_matrix.index)\n",
    "```"
   ]
  },
  {
   "cell_type": "markdown",
   "metadata": {
    "id": "NtmluaSGeBE-"
   },
   "source": [
    "##### **Step 3: Implement the Recommendation Function**\n",
    "Now, implement the function `recommend_movies_for_user(user_id, num=5)` to recommend movies for a given user.\n",
    "\n",
    "##### **Function Inputs:**\n",
    "- `user_id`: The target user for whom we need recommendations.\n",
    "- `num`: The number of movies to recommend (default is 5).\n",
    "\n",
    "##### **Function Steps:**\n",
    "1. Find **similar users**:\n",
    "   - Retrieve the similarity scores for the given `user_id`.\n",
    "   - Sort them in **descending** order (highest similarity first).\n",
    "   - Exclude the user themselves.\n",
    "   \n",
    "2. Get the **movie ratings** from these similar users.\n",
    "\n",
    "3. Compute the **average rating** for each movie based on these users' preferences.\n",
    "\n",
    "4. Sort the movies in **descending order** based on the computed average ratings.\n",
    "\n",
    "5. Retrieve the **top `num` recommended movies**.\n",
    "\n",
    "6. Map **movie IDs** to their **titles** using the `movies` DataFrame.\n",
    "\n",
    "7. Return the results as a **Pandas DataFrame** with rankings."
   ]
  },
  {
   "cell_type": "markdown",
   "metadata": {
    "id": "SgO0zd8LeGJ_"
   },
   "source": [
    "##### **Step 4: Return the Final Recommendation List**\n",
    "Your function should return a **DataFrame** structured as follows:\n",
    "\n",
    "| Ranking | Movie Name |\n",
    "|---------|-----------|\n",
    "| 1       | Movie A   |\n",
    "| 2       | Movie B   |\n",
    "| 3       | Movie C   |\n",
    "| 4       | Movie D   |\n",
    "| 5       | Movie E   |\n",
    "\n",
    "##### **Hint:** Your final DataFrame should be created like this:\n",
    "```python\n",
    "result_df = pd.DataFrame({\n",
    "    'Ranking': range(1, num+1),\n",
    "    'Movie Name': movie_names     \n",
    "})\n",
    "result_df.set_index('Ranking', inplace=True)\n",
    "```\n",
    "\n",
    "#### **Example: User-Based Collaborative Filtering**\n",
    "```python\n",
    "recommend_movies_for_user(10, num = 5)\n",
    "```\n",
    "**Output:**\n",
    "```\n",
    "| Ranking | Movie Name                     |\n",
    "|---------|--------------------------------|\n",
    "| 1       | In the Company of Men (1997)   |\n",
    "| 2       | Misérables, Les (1995)         |\n",
    "| 3       | Thin Blue Line, The (1988)     |\n",
    "| 4       | Braindead (1992)               |\n",
    "| 5       | Boys, Les (1997)               |\n"
   ]
  },
  {
   "cell_type": "markdown",
   "metadata": {
    "id": "rbENugJ5cUpo"
   },
   "source": [
    "### Step 1: Importing Required Librarires"
   ]
  },
  {
   "cell_type": "code",
   "execution_count": 22,
   "metadata": {},
   "outputs": [],
   "source": [
    "import pandas as pd\n",
    "import numpy as np\n",
    "from sklearn.metrics.pairwise import cosine_similarity"
   ]
  },
  {
   "cell_type": "markdown",
   "metadata": {},
   "source": [
    "### Step 2: Computing User Similarity Matrix"
   ]
  },
  {
   "cell_type": "code",
   "execution_count": 23,
   "metadata": {},
   "outputs": [],
   "source": [
    "# Filling missing values with 0\n",
    "\n",
    "user_movie_matrix_filled = user_movie_matrix.fillna(0)\n",
    "\n",
    "#Computing cosine similarity between users\n",
    "\n",
    "user_similarity = cosine_similarity(user_movie_matrix_filled)\n",
    "\n",
    "# Creating dataframe for user similarity giving users as rows and columns\n",
    "\n",
    "user_sim_df = pd.DataFrame(user_similarity, index = user_movie_matrix.index, columns = user_movie_matrix.index)"
   ]
  },
  {
   "cell_type": "markdown",
   "metadata": {},
   "source": [
    "#### Code Explanation\n",
    "\n",
    "- `user_movie_matrix.fillna(0)`  \n",
    "  Ensures all missing values are filled with 0 before computing similarity.\n",
    "\n",
    "- `cosine_similarity(user_movie_matrix_filled)`  \n",
    "  Calculates cosine similarity between all users based on their movie ratings.\n",
    "\n",
    "- `pd.DataFrame(..., index=..., columns=...)`  \n",
    "  Converts the similarity matrix into a DataFrame with users as both rows and columns for easier interpretation.\n"
   ]
  },
  {
   "cell_type": "markdown",
   "metadata": {},
   "source": [
    "### Implementing Recommendation Function"
   ]
  },
  {
   "cell_type": "code",
   "execution_count": 24,
   "metadata": {},
   "outputs": [
    {
     "name": "stdout",
     "output_type": "stream",
     "text": [
      "User 200 has no unrated movies left.\n"
     ]
    },
    {
     "data": {
      "text/html": [
       "<div>\n",
       "<style scoped>\n",
       "    .dataframe tbody tr th:only-of-type {\n",
       "        vertical-align: middle;\n",
       "    }\n",
       "\n",
       "    .dataframe tbody tr th {\n",
       "        vertical-align: top;\n",
       "    }\n",
       "\n",
       "    .dataframe thead th {\n",
       "        text-align: right;\n",
       "    }\n",
       "</style>\n",
       "<table border=\"1\" class=\"dataframe\">\n",
       "  <thead>\n",
       "    <tr style=\"text-align: right;\">\n",
       "      <th></th>\n",
       "      <th>Movie Name</th>\n",
       "    </tr>\n",
       "    <tr>\n",
       "      <th>Ranking</th>\n",
       "      <th></th>\n",
       "    </tr>\n",
       "  </thead>\n",
       "  <tbody>\n",
       "    <tr>\n",
       "      <th>1</th>\n",
       "      <td>Great Day in Harlem, A (1994)</td>\n",
       "    </tr>\n",
       "    <tr>\n",
       "      <th>2</th>\n",
       "      <td>Someone Else's America (1995)</td>\n",
       "    </tr>\n",
       "    <tr>\n",
       "      <th>3</th>\n",
       "      <td>Marlene Dietrich: Shadow and Light (1996)</td>\n",
       "    </tr>\n",
       "    <tr>\n",
       "      <th>4</th>\n",
       "      <td>They Made Me a Criminal (1939)</td>\n",
       "    </tr>\n",
       "    <tr>\n",
       "      <th>5</th>\n",
       "      <td>Entertaining Angels: The Dorothy Day Story (1996)</td>\n",
       "    </tr>\n",
       "  </tbody>\n",
       "</table>\n",
       "</div>"
      ],
      "text/plain": [
       "                                                Movie Name\n",
       "Ranking                                                   \n",
       "1                            Great Day in Harlem, A (1994)\n",
       "2                            Someone Else's America (1995)\n",
       "3               Marlene Dietrich: Shadow and Light (1996) \n",
       "4                           They Made Me a Criminal (1939)\n",
       "5        Entertaining Angels: The Dorothy Day Story (1996)"
      ]
     },
     "execution_count": 24,
     "metadata": {},
     "output_type": "execute_result"
    }
   ],
   "source": [
    "def recommend_movies_for_user(user_id, num=5):\n",
    "    # Ensure movie title lookup is ready\n",
    "    df_movies['movie_id'] = df_movies['movie_id'].astype(int)\n",
    "    movie_titles = df_movies.set_index('movie_id')['title']\n",
    "\n",
    "    # Step 1: Get similarity scores (excluding the user)\n",
    "    if user_id not in user_sim_df.columns:\n",
    "        print(f\"User {user_id} not found in user similarity data.\")\n",
    "        return pd.DataFrame(columns=[\"Movie Name\"])\n",
    "\n",
    "    similar_users = user_sim_df[user_id].sort_values(ascending=False).drop(user_id)\n",
    "\n",
    "    # Step 2: Ratings of similar users\n",
    "    top_users = similar_users.index\n",
    "    similar_user_ratings = user_movie_matrix.loc[top_users]\n",
    "\n",
    "    # Step 3: Average movie ratings from similar users\n",
    "    movie_scores = similar_user_ratings.mean(axis=0)\n",
    "\n",
    "    # Step 4: Remove already rated movies\n",
    "    rated_movies = user_movie_matrix.loc[user_id].dropna().index\n",
    "    movie_scores = movie_scores.drop(rated_movies, errors='ignore')\n",
    "\n",
    "    # Step 5: Check if there are unrated movies\n",
    "    unrated_count = movie_scores.shape[0]\n",
    "    if unrated_count == 0:\n",
    "        print(f\"User {user_id} has no unrated movies left.\")\n",
    "    \n",
    "    # Step 6: Smart Fallback — Only fallback if the user has too few unrated movies\n",
    "    if unrated_count == 0 or len(rated_movies) < 10:\n",
    "        \n",
    "        movie_scores = similar_user_ratings.mean(axis=0).sort_values(ascending=False)\n",
    "        movie_scores = movie_scores.drop(rated_movies, errors='ignore')\n",
    "\n",
    "    # Step 7: Final fallback to top globally rated movies if necessary\n",
    "    if movie_scores.empty:\n",
    "        \n",
    "        top_movie_ids = df_ratings.groupby(\"movie_id\")[\"rating\"].mean().sort_values(ascending=False).head(num).index\n",
    "    else:\n",
    "        top_movie_ids = movie_scores.head(num).index\n",
    "\n",
    "    # Step 8: Get movie titles\n",
    "    movie_names = [movie_titles.get(int(mid), f\"Movie ID {mid}\") for mid in top_movie_ids]\n",
    "\n",
    "    # Step 9: Format result\n",
    "    result_df = pd.DataFrame({\n",
    "        'Ranking': range(1, len(movie_names) + 1),\n",
    "        'Movie Name': movie_names     \n",
    "    })\n",
    "    result_df.set_index('Ranking', inplace=True)\n",
    "\n",
    "    return result_df\n",
    "\n",
    "# Example usage\n",
    "recommend_movies_for_user(200, num=5)"
   ]
  },
  {
   "cell_type": "markdown",
   "metadata": {},
   "source": [
    "#### Code Explanation\n",
    "\n",
    "This function recommends top `n` movies for a given user based on user-user similarity.\n",
    "\n",
    "##### Steps:\n",
    "1. **Movie Lookup**: Prepares a mapping from movie ID to title.\n",
    "2. **Find Similar Users**: Gets users most similar to the input `user_id`.\n",
    "3. **Gather Ratings**: Collects ratings from those similar users.\n",
    "4. **Score Movies**: Computes average scores for each movie.\n",
    "5. **Filter Rated Movies**: Excludes movies already rated by the input user.\n",
    "6. **Smart Fallback**: If too few unrated movies, uses broader averages.\n",
    "7. **Final Fallback**: If still empty, recommends globally top-rated movies.\n",
    "8. **Map Titles**: Converts recommended movie IDs to titles.\n",
    "9. **Return**: Outputs a ranked DataFrame of movie recommendations.\n",
    "\n",
    "##### Example:\n",
    "```python\n",
    "recommend_movies_for_user(200, num=5)\n"
   ]
  },
  {
   "cell_type": "markdown",
   "metadata": {},
   "source": [
    "#### Insights for the User-based collaborative filtering recommender system\n",
    "\n",
    "- Similarity-Driven Personalization: Recommendations are based on ratings from users most similar to the target user. This helps capture taste patterns and offer relevant suggestions.\n",
    "\n",
    "- Good for Sparse Data: Even if a user has rated only a few movies, the system can still work well by leveraging behavior from other users.\n",
    "\n",
    "- Prevents Redundancy: Movies already rated by the user are excluded from recommendations, making the results genuinely new.\n",
    "\n",
    "- Fallbacks Improve Robustness: When similar users have rated few new movies, the model falls back to average ratings or top-rated global movies, ensuring consistent output.\n",
    "\n"
   ]
  },
  {
   "cell_type": "markdown",
   "metadata": {
    "id": "MIN3XqC0eUAu"
   },
   "source": [
    "### **Item-Based Collaborative Filtering Recommender System**"
   ]
  },
  {
   "cell_type": "markdown",
   "metadata": {
    "id": "ytqWK-4ze2aA"
   },
   "source": [
    "#### **Objective**\n",
    "In this task, you will implement an **item-based collaborative filtering** recommendation system using the **Movie dataset**. The goal is to recommend movies similar to a given movie based on user rating patterns."
   ]
  },
  {
   "cell_type": "markdown",
   "metadata": {
    "id": "Q0-HuDvffY57"
   },
   "source": [
    "#### **Step 1: Import Required Libraries**\n",
    "Although we have done this part already in the previous task but just to emphasize the importance reiterrating this part.\n",
    "\n",
    "Before starting, ensure you have the necessary libraries installed. Use the following imports:\n",
    "\n",
    "```python\n",
    "import pandas as pd  # For handling data\n",
    "import numpy as np   # For numerical computations\n",
    "from sklearn.metrics.pairwise import cosine_similarity  # For computing item similarity\n",
    "```"
   ]
  },
  {
   "cell_type": "markdown",
   "metadata": {
    "id": "b9oy7pojf19r"
   },
   "source": [
    "#### **Step 2: Compute Item-Item Similarity**\n",
    "- We will use **cosine similarity** to measure how similar each pair of movies is based on their user ratings.\n",
    "- Since `cosine_similarity` does not handle missing values (NaN), replace them with `0` before computation.\n",
    "- Unlike user-based filtering, we need to **transpose** (`.T`) the `user_movie_matrix` because we want similarity between movies (columns) instead of users (rows).\n",
    "\n",
    "##### **Instructions:**\n",
    "1. Transpose the user-movie matrix using `.T` to make movies the rows.\n",
    "2. Fill missing values with `0` using `.fillna(0)`.\n",
    "3. Compute similarity using `cosine_similarity()`.\n",
    "4. Convert the result into a **Pandas DataFrame**, with movies as both row and column labels.\n",
    "\n",
    "##### **Hint:**  \n",
    "You can achieve this using the following approach:\n",
    "\n",
    "```python\n",
    "item_similarity = cosine_similarity(user_movie_matrix.T.fillna(0))\n",
    "item_sim_df = pd.DataFrame(item_similarity, index=user_movie_matrix.columns, columns=user_movie_matrix.columns)\n",
    "```"
   ]
  },
  {
   "cell_type": "markdown",
   "metadata": {
    "id": "L8k80idUgDWW"
   },
   "source": [
    "#### **Step 3: Implement the Recommendation Function**\n",
    "Now, implement the function `recommend_movies(movie_name, num=5)` to recommend movies similar to a given movie.\n",
    "\n",
    "##### **Function Inputs:**\n",
    "- `movie_name`: The target movie for which we need recommendations.\n",
    "- `num`: The number of similar movies to recommend (default is 5).\n",
    "\n",
    "##### **Function Steps:**\n",
    "1. Find the **movie_id** corresponding to the given `movie_name` in the `movies` DataFrame.\n",
    "2. If the movie is not found, return an appropriate message.\n",
    "3. Extract the **similarity scores** for this movie from `item_sim_df`.\n",
    "4. Sort the movies in **descending order** based on similarity (excluding the movie itself).\n",
    "5. Retrieve the **top `num` similar movies**.\n",
    "6. Map **movie IDs** to their **titles** using the `movies` DataFrame.\n",
    "7. Return the results as a **Pandas DataFrame** with rankings."
   ]
  },
  {
   "cell_type": "markdown",
   "metadata": {
    "id": "kNRZQWQkgLPf"
   },
   "source": [
    "#### **Step 4: Return the Final Recommendation List**\n",
    "Your function should return a **DataFrame** structured as follows:\n",
    "\n",
    "| Ranking | Movie Name |\n",
    "|---------|-----------|\n",
    "| 1       | Movie A   |\n",
    "| 2       | Movie B   |\n",
    "| 3       | Movie C   |\n",
    "| 4       | Movie D   |\n",
    "| 5       | Movie E   |\n",
    "\n",
    "##### **Hint:** Your final DataFrame should be created like this:\n",
    "```python\n",
    "result_df = pd.DataFrame({\n",
    "    'ranking': range(1, num+1),\n",
    "    'movie_name': movie_names\n",
    "})\n",
    "result_df.set_index('ranking', inplace=True)\n",
    "```"
   ]
  },
  {
   "cell_type": "markdown",
   "metadata": {
    "id": "h-EEF0Q1gd9N"
   },
   "source": [
    "#### **Example: Item-Based Collaborative Filtering**\n",
    "```python\n",
    "recommend_movies(\"Jurassic Park (1993)\", num=5)\n",
    "```\n",
    "**Output:**\n",
    "```\n",
    "| Ranking | Movie Name                               |\n",
    "|---------|------------------------------------------|\n",
    "| 1       | Top Gun (1986)                           |\n",
    "| 2       | Empire Strikes Back, The (1980)          |\n",
    "| 3       | Raiders of the Lost Ark (1981)           |\n",
    "| 4       | Indiana Jones and the Last Crusade (1989)|\n",
    "| 5       | Speed (1994)                             |\n"
   ]
  },
  {
   "cell_type": "markdown",
   "metadata": {
    "id": "l1K79akTebWa"
   },
   "source": [
    "### Steps for performing Item-based collaborative filtering"
   ]
  },
  {
   "cell_type": "code",
   "execution_count": 25,
   "metadata": {},
   "outputs": [],
   "source": [
    "# Code the function here\n",
    "# Transposing the user-movie matrix so that movies are rows, users are columns \n",
    "\n",
    "movie_user_matrix = user_movie_matrix.T.fillna(0)\n",
    "\n",
    "# Computing cosine similarity between movies\n",
    "\n",
    "item_similarity = cosine_similarity(movie_user_matrix)\n",
    "\n",
    "#Store similarity in a Dataframe with movie IDs as row/columns labels\n",
    "\n",
    "item_sim_df = pd.DataFrame(item_similarity, index=movie_user_matrix.index, columns=movie_user_matrix.index)"
   ]
  },
  {
   "cell_type": "markdown",
   "metadata": {},
   "source": [
    "#### Code Explanation\n",
    "\n",
    "- `user_movie_matrix.T.fillna(0)`  \n",
    "  Transposes the user-movie matrix so that movies become rows and users become columns.\n",
    "\n",
    "- `cosine_similarity(movie_user_matrix)`  \n",
    "  Computes cosine similarity between movies based on user ratings.\n",
    "\n",
    "- `pd.DataFrame(..., index=..., columns=...)`  \n",
    "  Stores the similarity matrix in a DataFrame `item_sim_df`, using movie IDs as both row and column labels.\n"
   ]
  },
  {
   "cell_type": "code",
   "execution_count": 26,
   "metadata": {},
   "outputs": [
    {
     "data": {
      "text/html": [
       "<div>\n",
       "<style scoped>\n",
       "    .dataframe tbody tr th:only-of-type {\n",
       "        vertical-align: middle;\n",
       "    }\n",
       "\n",
       "    .dataframe tbody tr th {\n",
       "        vertical-align: top;\n",
       "    }\n",
       "\n",
       "    .dataframe thead th {\n",
       "        text-align: right;\n",
       "    }\n",
       "</style>\n",
       "<table border=\"1\" class=\"dataframe\">\n",
       "  <thead>\n",
       "    <tr style=\"text-align: right;\">\n",
       "      <th></th>\n",
       "      <th>movie_name</th>\n",
       "    </tr>\n",
       "    <tr>\n",
       "      <th>ranking</th>\n",
       "      <th></th>\n",
       "    </tr>\n",
       "  </thead>\n",
       "  <tbody>\n",
       "    <tr>\n",
       "      <th>1</th>\n",
       "      <td>Top Gun (1986)</td>\n",
       "    </tr>\n",
       "    <tr>\n",
       "      <th>2</th>\n",
       "      <td>Speed (1994)</td>\n",
       "    </tr>\n",
       "    <tr>\n",
       "      <th>3</th>\n",
       "      <td>Raiders of the Lost Ark (1981)</td>\n",
       "    </tr>\n",
       "    <tr>\n",
       "      <th>4</th>\n",
       "      <td>Empire Strikes Back, The (1980)</td>\n",
       "    </tr>\n",
       "    <tr>\n",
       "      <th>5</th>\n",
       "      <td>Indiana Jones and the Last Crusade (1989)</td>\n",
       "    </tr>\n",
       "  </tbody>\n",
       "</table>\n",
       "</div>"
      ],
      "text/plain": [
       "                                        movie_name\n",
       "ranking                                           \n",
       "1                                   Top Gun (1986)\n",
       "2                                     Speed (1994)\n",
       "3                   Raiders of the Lost Ark (1981)\n",
       "4                  Empire Strikes Back, The (1980)\n",
       "5        Indiana Jones and the Last Crusade (1989)"
      ]
     },
     "execution_count": 26,
     "metadata": {},
     "output_type": "execute_result"
    }
   ],
   "source": [
    "# Defining The Recommendation Function\n",
    "\n",
    "def recommend_movies(movie_name, num=5):\n",
    "    # Prepare movie lookup\n",
    "    df_movies['movie_id'] = df_movies['movie_id'].astype(int)\n",
    "    movie_lookup = df_movies.set_index('title')['movie_id'].to_dict()\n",
    "\n",
    "    if movie_name not in movie_lookup:\n",
    "        print(f\"Movie '{movie_name}' not found in the dataset.\")\n",
    "        return pd.DataFrame(columns=['movie_name'])\n",
    "\n",
    "    # Get movie ID\n",
    "    target_movie_id = movie_lookup[movie_name]\n",
    "\n",
    "    # Check if the movie exists in the similarity matrix\n",
    "    if target_movie_id not in item_sim_df.index:\n",
    "        print(f\" No similarity data found for '{movie_name}' (movie_id: {target_movie_id}).\")\n",
    "        return pd.DataFrame(columns=['movie_name'])\n",
    "\n",
    "    # Get similarity scores, sort, and exclude the movie itself\n",
    "    sim_scores = item_sim_df[target_movie_id].drop(target_movie_id)\n",
    "    top_movie_ids = sim_scores.sort_values(ascending=False).head(num).index\n",
    "\n",
    "    # Get movie titles from IDs\n",
    "    movie_titles = df_movies.set_index('movie_id')['title']\n",
    "    movie_names = [movie_titles.get(mid, f\"Movie ID {mid}\") for mid in top_movie_ids]\n",
    "\n",
    "    # Format output\n",
    "    result_df = pd.DataFrame({\n",
    "        'ranking': range(1, len(movie_names) + 1),\n",
    "        'movie_name': movie_names\n",
    "    })\n",
    "    result_df.set_index('ranking', inplace=True)\n",
    "\n",
    "    return result_df\n",
    "\n",
    "\n",
    "recommend_movies(\"Jurassic Park (1993)\", num=5)"
   ]
  },
  {
   "cell_type": "markdown",
   "metadata": {},
   "source": [
    "#### Code Explanation\n",
    "\n",
    "This function recommends top `n` similar movies to a given movie based on item-item similarity.\n",
    "\n",
    "##### Steps:\n",
    "1. **Movie Lookup**: Maps movie titles to IDs using `df_movies`.\n",
    "2. **Check Existence**: Ensures the input movie exists in the dataset and similarity matrix.\n",
    "3. **Get Similarities**: Retrieves cosine similarity scores for the given movie.\n",
    "4. **Filter & Sort**: Excludes the movie itself and selects top similar movie IDs.\n",
    "5. **Get Titles**: Converts similar movie IDs back to titles.\n",
    "6. **Return**: Outputs a ranked DataFrame of recommended movies.\n",
    "\n",
    "##### Example:\n",
    "```python\n",
    "recommend_movies(\"Jurassic Park (1993)\", num=5)\n"
   ]
  },
  {
   "cell_type": "markdown",
   "metadata": {},
   "source": [
    "#### Insights: Item-Based Collaborative Filtering Recommender System\n",
    "\n",
    "\n",
    "\n",
    "##### Key Insights\n",
    "\n",
    "- **Content-Agnostic but Context-Aware**:  \n",
    "  The model recommends similar movies purely based on user interactions, without requiring metadata like genre or actors.\n",
    "\n",
    "- **Consistent & Stable Recommendations**:  \n",
    "  Unlike user-based filtering, item similarities change slowly over time, resulting in more consistent recommendations.\n",
    "\n",
    "- **Scales Well for Large Datasets**:  \n",
    "  Since the number of movies is usually smaller than users, item-based filtering is often more scalable.\n",
    "\n",
    "- **Great for Cold Start Users**:  \n",
    "  Since recommendations are based on items, not users, even new users with few ratings can get suggestions if they've rated at least one movie.\n",
    "\n",
    "---\n"
   ]
  },
  {
   "cell_type": "markdown",
   "metadata": {
    "id": "YhZXLz7Rh_VC"
   },
   "source": [
    "## **Part 3: Graph-Based Recommender (Pixie-Inspired Algorithm)**"
   ]
  },
  {
   "cell_type": "markdown",
   "metadata": {
    "id": "u_YceL18lWlN"
   },
   "source": [
    "### **Adjacency List**"
   ]
  },
  {
   "cell_type": "markdown",
   "metadata": {
    "id": "CFF1tUDsipIX"
   },
   "source": [
    "#### **Objective**\n",
    "In this task, you will preprocess the Movie dataset and construct a **graph representation** where:\n",
    "- **Users** are connected to the movies they have rated.\n",
    "- **Movies** are connected to users who have rated them.\n",
    "  \n",
    "This graph structure will help in exploring **user-movie relationships** for recommendations."
   ]
  },
  {
   "cell_type": "markdown",
   "metadata": {
    "id": "-3OPInjhkUzy"
   },
   "source": [
    "#### **Step 1: Merge Ratings with Movie Titles**\n",
    "Since we have **movie IDs** in the ratings dataset but need human-readable movie titles, we will:\n",
    "1. Merge the `ratings` DataFrame with the `movies` DataFrame using the `'movie_id'` column.\n",
    "2. This allows each rating to be associated with a **movie title**.\n",
    "\n",
    "#### **Hint:**\n",
    "Use the following Pandas operation to merge:\n",
    "```python\n",
    "ratings = ratings.merge(movies, on='movie_id')\n",
    "```"
   ]
  },
  {
   "cell_type": "markdown",
   "metadata": {
    "id": "3OPUXyNVkfHr"
   },
   "source": [
    "\n",
    "#### **Step 2: Aggregate Ratings**\n",
    "Since multiple users may rate the same movie multiple times, we:\n",
    "1. Group the dataset by `['user_id', 'movie_id', 'title']`.\n",
    "2. Compute the **mean rating** for each movie by each user.\n",
    "3. Reset the index to ensure we maintain a clean DataFrame structure.\n",
    "\n",
    "#### **Hint:**  \n",
    "Use `groupby()` and `mean()` as follows:\n",
    "```python\n",
    "ratings = ratings.groupby(['user_id', 'movie_id', 'title'])['rating'].mean().reset_index()\n",
    "```"
   ]
  },
  {
   "cell_type": "markdown",
   "metadata": {
    "id": "NU1fB66WkqEO"
   },
   "source": [
    "#### **Step 3: Normalize Ratings**\n",
    "Since different users have different rating biases, we normalize ratings by:\n",
    "1. **Computing each user's mean rating**.\n",
    "2. **Subtracting the mean rating** from each individual rating.\n",
    "\n",
    "#### **Instructions:**\n",
    "- Use `groupby('user_id')` to group ratings by users.\n",
    "- Apply `transform(lambda x: x - x.mean())` to adjust ratings.\n",
    "\n",
    "#### **Hint:**  \n",
    "Normalize ratings using:\n",
    "```python\n",
    "ratings['rating'] = ratings.groupby('user_id')['rating'].transform(lambda x: x - x.mean())\n",
    "```\n",
    "This ensures each user’s ratings are centered around zero, making similarity calculations fairer."
   ]
  },
  {
   "cell_type": "markdown",
   "metadata": {
    "id": "79NB8zIWkvWP"
   },
   "source": [
    "#### **Step 4: Construct the Graph Representation**\n",
    "We represent the user-movie interactions as an **undirected graph** using an **adjacency list**:\n",
    "- Each **user** is a node connected to movies they rated.\n",
    "- Each **movie** is a node connected to users who rated it.\n",
    "\n",
    "#### **Graph Construction Steps:**\n",
    "1. Initialize an empty dictionary `graph = {}`.\n",
    "2. Iterate through the **ratings dataset**.\n",
    "3. For each `user_id` and `movie_id` pair:\n",
    "   - Add the movie to the user’s set of connections.\n",
    "   - Add the user to the movie’s set of connections.\n",
    "\n",
    "#### **Hint:**  \n",
    "The following code builds the graph:\n",
    "\n",
    "```python\n",
    "graph = {}\n",
    "for _, row in ratings.iterrows():\n",
    "    user, movie = row['user_id'], row['movie_id']\n",
    "    if user not in graph:\n",
    "        graph[user] = set()\n",
    "    if movie not in graph:\n",
    "        graph[movie] = set()\n",
    "    graph[user].add(movie)\n",
    "    graph[movie].add(user)\n",
    "```\n",
    "\n",
    "This results in a **bipartite graph**, where:\n",
    "- **Users** are connected to multiple movies.\n",
    "- **Movies** are connected to multiple users."
   ]
  },
  {
   "cell_type": "markdown",
   "metadata": {
    "id": "wEuVgjAAk4KV"
   },
   "source": [
    "#### **Step 5: Understanding the Graph**\n",
    "- **Nodes** in the graph represent **users and movies**.\n",
    "- **Edges** exist between a user and a movie **if the user has rated the movie**.\n",
    "- This structure allows us to find **users with similar movie tastes** and **movies frequently watched together**.\n",
    "\n",
    "#### **Exploring the Graph**\n",
    "- **Find a user’s rated movies:**  \n",
    "  ```python\n",
    "  user_id = 1\n",
    "  print(graph[user_id])  # Movies rated by user 1\n",
    "  ```\n",
    "\n",
    "- **Find users who rated a movie:**  \n",
    "  ```python\n",
    "  movie_id = 50\n",
    "  print(graph[movie_id])  # Users who rated movie 50\n",
    "  ```"
   ]
  },
  {
   "cell_type": "markdown",
   "metadata": {
    "id": "b4V2aL4DiMM4"
   },
   "source": [
    "### Steps for Implementing Graph Based Recommender"
   ]
  },
  {
   "cell_type": "code",
   "execution_count": 27,
   "metadata": {},
   "outputs": [],
   "source": [
    "# Code the function here\n",
    "\n",
    "#ensuring movie_id is of type int in both dataframes\n",
    "\n",
    "df_movies['movie_id'] = df_movies['movie_id'].astype(int)\n",
    "df_ratings['movie_id'] = df_ratings['movie_id'].astype(int)\n",
    "\n",
    "#Merging to get movie titles into the ratings dataset\n",
    "\n",
    "ratings_merged = df_ratings.merge(df_movies[['movie_id','title']], on='movie_id')"
   ]
  },
  {
   "cell_type": "markdown",
   "metadata": {},
   "source": [
    "#### Code Explanation\n",
    "\n",
    "- Ensures `movie_id` column is of type `int` in both `df_movies` and `df_ratings` to avoid merge issues.\n",
    "\n",
    "- Merges `df_ratings` with selected columns from `df_movies` (`movie_id`, `title`) using:\n",
    "  ```python\n",
    "  df_ratings.merge(df_movies[['movie_id', 'title']], on='movie_id')\n"
   ]
  },
  {
   "cell_type": "code",
   "execution_count": 28,
   "metadata": {},
   "outputs": [],
   "source": [
    "# grouping by user, movie, title and taking mean rating (if duplicates)\n",
    "\n",
    "ratings_aggregated = ratings_merged.groupby(['user_id', 'movie_id','title'])['rating'].mean().reset_index()"
   ]
  },
  {
   "cell_type": "markdown",
   "metadata": {},
   "source": [
    "#### Code Explanation\n",
    "\n",
    "- Groups the merged DataFrame by `user_id`, `movie_id`, and `title`.\n",
    "\n",
    "- Calculates the **mean rating** for each user-movie pair in case of duplicates.\n",
    "\n",
    "- Uses `.reset_index()` to convert the grouped data back into a clean DataFrame.\n",
    "\n",
    "- Stores the result in `ratings_aggregated`.\n"
   ]
  },
  {
   "cell_type": "code",
   "execution_count": 29,
   "metadata": {},
   "outputs": [],
   "source": [
    "# Normalizing Ratings \n",
    "\n",
    "# Substracting each user's mean rating from their individual ratings\n",
    "\n",
    "ratings_aggregated['rating'] = ratings_aggregated.groupby('user_id')['rating'].transform(lambda x: x - x.mean())"
   ]
  },
  {
   "cell_type": "markdown",
   "metadata": {},
   "source": [
    "#### Code Explanation\n",
    "\n",
    "- Adjusts ratings by subtracting each user's average rating from their individual ratings.\n",
    "\n",
    "- Helps remove personal bias (e.g., users who rate everything high or low).\n",
    "\n",
    "- Uses `groupby('user_id')` with `transform()` to apply the normalization to each user's ratings.\n",
    "\n",
    "- Updates the `rating` column in `ratings_aggregated` with normalized values.\n"
   ]
  },
  {
   "cell_type": "code",
   "execution_count": 30,
   "metadata": {},
   "outputs": [],
   "source": [
    "# Constructing Graph Representation\n",
    "\n",
    "# Initialize empty graph\n",
    "\n",
    "graph = {}\n",
    "\n",
    "#Iterating through the dataframes and building the bipartite graph\n",
    "\n",
    "for _, row in ratings_aggregated.iterrows():\n",
    "    user = row['user_id']\n",
    "    movie = row['movie_id']\n",
    "    \n",
    "    \n",
    "    #Add movie to user node\n",
    "    \n",
    "    if user not in graph:\n",
    "        graph[user] = set()\n",
    "    graph[user].add(movie)\n",
    "    \n",
    "    #Add user to movie node\n",
    "    \n",
    "    if movie not in graph:\n",
    "        graph[movie] = set()\n",
    "        graph[movie].add(user)"
   ]
  },
  {
   "cell_type": "markdown",
   "metadata": {},
   "source": [
    "#### Code Explanation\n",
    "\n",
    "- Initializes an empty dictionary `graph` to represent a bipartite graph.\n",
    "\n",
    "- Iterates over `ratings_aggregated` to build connections:\n",
    "  - Adds each `movie_id` to the set of movies connected to a `user_id`.\n",
    "  - Adds each `user_id` to the set of users connected to a `movie_id`.\n",
    "\n",
    "- The result is a dictionary where:\n",
    "  - Keys are either user IDs or movie IDs.\n",
    "  - Values are sets of connected nodes (movies for users, users for movies).\n"
   ]
  },
  {
   "cell_type": "code",
   "execution_count": 31,
   "metadata": {},
   "outputs": [
    {
     "name": "stdout",
     "output_type": "stream",
     "text": [
      "Movies rated by User 1: {1, 2, 3, 4, 5, 6, 7, 8, 9, 10, 11, 12, 13, 14, 15, 16, 17, 18, 19, 20, 21, 22, 23, 24, 25, 26, 27, 28, 29, 30, 31, 32, 33, 34, 35, 36, 37, 38, 39, 40, 41, 42, 43, 44, 45, 46, 47, 48, 49, 50, 51, 52, 53, 54, 55, 56, 57, 58, 59, 60, 61, 62, 63, 64, 65, 66, 67, 68, 69, 70, 71, 72, 73, 74, 75, 76, 77, 78, 79, 80, 81, 82, 83, 84, 85, 86, 87, 88, 89, 90, 91, 92, 93, 94, 95, 96, 97, 98, 99, 100, 101, 102, 103, 104, 105, 106, 107, 108, 109, 110, 111, 112, 113, 114, 115, 116, 117, 118, 119, 120, 121, 122, 123, 124, 125, 126, 127, 128, 129, 130, 131, 132, 133, 134, 135, 136, 137, 138, 139, 140, 141, 142, 143, 144, 145, 146, 147, 148, 149, 150, 151, 152, 153, 154, 155, 156, 157, 158, 159, 160, 161, 162, 163, 164, 165, 166, 167, 168, 169, 170, 171, 172, 173, 174, 175, 176, 177, 178, 179, 180, 181, 182, 183, 184, 185, 186, 187, 188, 189, 190, 191, 192, 193, 194, 195, 196, 197, 198, 199, 200, 201, 202, 203, 204, 205, 206, 207, 208, 209, 210, 211, 212, 213, 214, 215, 216, 217, 218, 219, 220, 221, 222, 223, 224, 225, 226, 227, 228, 229, 230, 231, 232, 233, 234, 235, 236, 237, 238, 239, 240, 241, 242, 243, 244, 245, 246, 247, 248, 249, 250, 251, 252, 253, 254, 255, 256, 257, 258, 259, 260, 261, 262, 263, 264, 265, 266, 267, 268, 269, 270, 271, 272}\n",
      "Users who rated Movie 50: {1, 9, 268, 15, 276, 286, 288, 544, 547, 823, 1084, 319, 324, 325, 327, 475, 100, 124, 1008, 1010, 125, 246, 123, 508, 253}\n"
     ]
    }
   ],
   "source": [
    "# Exploring the Graph\n",
    "\n",
    "user_id = 1\n",
    "print(f\"Movies rated by User {user_id}:\", graph.get(user_id, \"user not found\"))\n",
    "\n",
    "movie_id = 50\n",
    "print(f\"Users who rated Movie {movie_id}:\", graph.get(movie_id,\"Movie not found\"))"
   ]
  },
  {
   "cell_type": "markdown",
   "metadata": {},
   "source": [
    "#### Code Explanation\n",
    "\n",
    "- Retrieves and prints:\n",
    "  - Movies rated by a specific user (e.g., `user_id = 1`)\n",
    "  - Users who rated a specific movie (e.g., `movie_id = 50`)\n",
    "\n",
    "- Uses `graph.get(key, default)` to safely access the graph:\n",
    "  - Returns connected nodes if found.\n",
    "  - Returns a default message if the user or movie is not in the graph.\n"
   ]
  },
  {
   "cell_type": "markdown",
   "metadata": {},
   "source": [
    "#### Results and Insights\n",
    "\n",
    "##### Model Overview\n",
    "\n",
    "- The recommender builds a **bipartite graph** of users and movies based on interactions (ratings).\n",
    "- It performs **random walks** on this graph to discover potential recommendations:\n",
    "  - **Movie-based**: Starting from a movie to find related movies.\n",
    "  - **User-based**: Starting from a user to discover new movies through indirect user connections.\n",
    "\n",
    "---\n",
    "\n",
    "##### Sample Results\n",
    "\n",
    "**User-Based Walk (User ID = 1):**\n",
    "```python\n",
    "weighted_pixie_recommend_user(1, walk_length=15, num=5)\n"
   ]
  },
  {
   "cell_type": "markdown",
   "metadata": {
    "id": "_ZE31gB7lImI"
   },
   "source": [
    "### **Implement Weighted Random Walks**"
   ]
  },
  {
   "cell_type": "markdown",
   "metadata": {
    "id": "yHe42rlJl9kD"
   },
   "source": [
    "#### **Random Walk-Based Movie Recommendation System (Weighted Pixie)**"
   ]
  },
  {
   "cell_type": "markdown",
   "metadata": {
    "id": "jyqptwreo-IP"
   },
   "source": [
    "#### **Objective**\n",
    "In this task, you will implement a **random-walk-based recommendation algorithm** using the **Weighted Pixie** method. This technique uses a **user-movie bipartite graph** to recommend movies by simulating a random walk from a given user or movie."
   ]
  },
  {
   "cell_type": "markdown",
   "metadata": {
    "id": "jFgyzzdCpfzu"
   },
   "source": [
    "#### **Step 1: Import Required Libraries**\n",
    "Make sure you have the necessary libraries:\n",
    "\n",
    "```python\n",
    "import random  # For random walks\n",
    "import pandas as pd  # For handling data\n",
    "```"
   ]
  },
  {
   "cell_type": "markdown",
   "metadata": {
    "id": "_FVGjhl0ppFK"
   },
   "source": [
    "#### **Step 2: Implement the Random Walk Algorithm**\n",
    "Your task is to **simulate a random walk** from a given starting point in the **bipartite user-movie graph**.\n",
    "\n",
    "##### **Hints for Implementation**\n",
    "- Start from **either a user or a movie**.\n",
    "- At each step, **randomly move** to a connected node.\n",
    "- Keep track of **how many times each movie is visited**.\n",
    "- After completing the walk, **rank movies by visit count**."
   ]
  },
  {
   "cell_type": "markdown",
   "metadata": {
    "id": "E7D7Pj6trss9"
   },
   "source": [
    "#### **Step 3: Implement User-Based Recommendation**\n",
    "**Hints:**\n",
    "- Check if the `user_id` exists in the `graph`.\n",
    "- Start a loop that runs for `walk_length` steps.\n",
    "- Randomly pick a **connected node** (user or movie).\n",
    "- Track how many times each **movie** is visited.\n",
    "- Sort movies by visit frequency and return the **top N**.\n",
    "\n",
    "#### **Step 4: Implement Movie-Based Recommendation**\n",
    "**Hints:**\n",
    "- Find the `movie_id` corresponding to the given `movie_name`.\n",
    "- Ensure the movie exists in the `graph`.\n",
    "- Start a random walk from that movie.\n",
    "- Follow the same **tracking and ranking** process as the user-based version.\n",
    "\n",
    "**Note:**  \n",
    "**Your task:** Implement a function `weighted_pixie_recommend(user_id, walk_length=15, num=5)` or `weighted_pixie_recommend(movie_name, walk_length=15, num=5)`.  \n",
    "**Implement either Step 3 or Step 4.**"
   ]
  },
  {
   "cell_type": "markdown",
   "metadata": {
    "id": "qxN_ibCCrCpx"
   },
   "source": [
    "#### **Step 5: Running Your Recommendation System**\n",
    "Once your function is implemented, test it by calling:\n",
    "\n",
    "##### **Example: User-Based Recommendation**\n",
    "```python\n",
    "weighted_pixie_recommend(1, walk_length=15, num=5)\n",
    "```\n",
    "| Ranking | Movie Name                     |\n",
    "|---------|--------------------------------|\n",
    "| 1       | My Own Private Idaho (1991)   |\n",
    "| 2       | Aladdin (1992)                |\n",
    "| 3       | 12 Angry Men (1957)           |\n",
    "| 4       | Happy Gilmore (1996)          |\n",
    "| 5       | Copycat (1995)                |\n",
    "\n",
    "\n",
    "##### **Example: Movie-Based Recommendation**\n",
    "```python\n",
    "weighted_pixie_recommend(\"Jurassic Park (1993)\", walk_length=10, num=5)\n",
    "```\n",
    "| Ranking | Movie Name                           |\n",
    "|---------|-------------------------------------|\n",
    "| 1       | Rear Window (1954)                 |\n",
    "| 2       | Great Dictator, The (1940)         |\n",
    "| 3       | Field of Dreams (1989)             |\n",
    "| 4       | Casablanca (1942)                  |\n",
    "| 5       | Nightmare Before Christmas, The (1993) |\n"
   ]
  },
  {
   "cell_type": "markdown",
   "metadata": {
    "id": "ZpUH9IzVr5aQ"
   },
   "source": [
    "#### **Step 6: Understanding the Results**\n",
    "Your function should return a **DataFrame** structured as follows:\n",
    "\n",
    "| Ranking | Movie Name |\n",
    "|---------|-----------|\n",
    "| 1       | Movie A   |\n",
    "| 2       | Movie B   |\n",
    "| 3       | Movie C   |\n",
    "| 4       | Movie D   |\n",
    "| 5       | Movie E   |\n",
    "\n",
    "Each movie is ranked based on **how frequently it was visited** during the walk.\n",
    "\n",
    "#### **Experiment with Different Parameters**\n",
    "- Try different **`walk_length`** values and observe how it changes recommendations.\n",
    "- Adjust the number of recommended movies (`num`)."
   ]
  },
  {
   "cell_type": "markdown",
   "metadata": {
    "id": "tZD5fjG-lx3b"
   },
   "source": [
    "### Steps for Implementing Weighted Pixie Random Walk Recommender"
   ]
  },
  {
   "cell_type": "code",
   "execution_count": 32,
   "metadata": {},
   "outputs": [],
   "source": [
    "import random \n",
    "import pandas as pd"
   ]
  },
  {
   "cell_type": "markdown",
   "metadata": {},
   "source": [
    "### Movie Based Random walk recommendation"
   ]
  },
  {
   "cell_type": "code",
   "execution_count": 33,
   "metadata": {},
   "outputs": [
    {
     "data": {
      "text/html": [
       "<div>\n",
       "<style scoped>\n",
       "    .dataframe tbody tr th:only-of-type {\n",
       "        vertical-align: middle;\n",
       "    }\n",
       "\n",
       "    .dataframe tbody tr th {\n",
       "        vertical-align: top;\n",
       "    }\n",
       "\n",
       "    .dataframe thead th {\n",
       "        text-align: right;\n",
       "    }\n",
       "</style>\n",
       "<table border=\"1\" class=\"dataframe\">\n",
       "  <thead>\n",
       "    <tr style=\"text-align: right;\">\n",
       "      <th></th>\n",
       "      <th>Movie Name</th>\n",
       "    </tr>\n",
       "    <tr>\n",
       "      <th>Ranking</th>\n",
       "      <th></th>\n",
       "    </tr>\n",
       "  </thead>\n",
       "  <tbody>\n",
       "    <tr>\n",
       "      <th>1</th>\n",
       "      <td>Scream 2 (1997)</td>\n",
       "    </tr>\n",
       "    <tr>\n",
       "      <th>2</th>\n",
       "      <td>Ransom (1996)</td>\n",
       "    </tr>\n",
       "    <tr>\n",
       "      <th>3</th>\n",
       "      <td>Private Parts (1997)</td>\n",
       "    </tr>\n",
       "    <tr>\n",
       "      <th>4</th>\n",
       "      <td>Brothers McMullen, The (1995)</td>\n",
       "    </tr>\n",
       "    <tr>\n",
       "      <th>5</th>\n",
       "      <td>Jerry Maguire (1996)</td>\n",
       "    </tr>\n",
       "  </tbody>\n",
       "</table>\n",
       "</div>"
      ],
      "text/plain": [
       "                            Movie Name\n",
       "Ranking                               \n",
       "1                      Scream 2 (1997)\n",
       "2                        Ransom (1996)\n",
       "3                 Private Parts (1997)\n",
       "4        Brothers McMullen, The (1995)\n",
       "5                 Jerry Maguire (1996)"
      ]
     },
     "execution_count": 33,
     "metadata": {},
     "output_type": "execute_result"
    }
   ],
   "source": [
    "# implementing random walk for movie-based recommendation\n",
    "\n",
    "def weighted_pixie_recommend_movie(movie_name, walk_length=15, num=5):\n",
    "    movie_row = df_movies[df_movies['title'] == movie_name]\n",
    "    if movie_row.empty:\n",
    "        print(f\"Movie '{movie_name}' not found.\")\n",
    "        return pd.DataFrame(columns=['movie_name'])\n",
    "\n",
    "    movie_id = int(movie_row['movie_id'].values[0])\n",
    "\n",
    "    if movie_id not in graph:\n",
    "        print(f\"Movie ID {movie_id} not found in the graph.\")\n",
    "        return pd.DataFrame(columns=['movie_name'])\n",
    "\n",
    "    current_node = movie_id\n",
    "    visit_counts = {}\n",
    "\n",
    "    for _ in range(walk_length):\n",
    "        neighbors = list(graph.get(current_node, []))\n",
    "        if not neighbors:\n",
    "            break\n",
    "\n",
    "        next_node = random.choice(neighbors)\n",
    "\n",
    "        # Count movie visits\n",
    "        if isinstance(next_node, int) and next_node in df_movies['movie_id'].values:\n",
    "            if next_node != movie_id:  # avoid counting the starting movie\n",
    "                visit_counts[next_node] = visit_counts.get(next_node, 0) + 1\n",
    "\n",
    "        current_node = next_node\n",
    "\n",
    "    # Sort and get top N\n",
    "    sorted_movies = sorted(visit_counts.items(), key=lambda x: x[1], reverse=True)[:num]\n",
    "    movie_titles = df_movies.set_index('movie_id')['title']\n",
    "    movie_names = [movie_titles.get(mid, f\"Movie ID {mid}\") for mid, _ in sorted_movies]\n",
    "\n",
    "    result_df = pd.DataFrame({\n",
    "        'Ranking': range(1, len(movie_names) + 1),\n",
    "        'Movie Name': movie_names\n",
    "    })\n",
    "    result_df.set_index('Ranking', inplace=True)\n",
    "\n",
    "    return result_df\n",
    "\n",
    "weighted_pixie_recommend_movie(\"Jurassic Park (1993)\", walk_length=10, num=5)\n"
   ]
  },
  {
   "cell_type": "markdown",
   "metadata": {},
   "source": [
    "#### Code Explanation\n",
    "\n",
    "This function recommends movies by simulating a random walk on the bipartite graph.\n",
    "\n",
    "##### Steps:\n",
    "1. **Lookup Movie ID**: Finds the `movie_id` based on the input `movie_name`.\n",
    "2. **Initialize Walk**: Starts a random walk from the given movie node.\n",
    "3. **Random Walk**:\n",
    "   - At each step, randomly chooses a connected node (user or movie).\n",
    "   - Tracks visit counts for other movies encountered (excluding the starting movie).\n",
    "4. **Ranking**: Sorts movies by how often they were visited during the walk.\n",
    "5. **Map Titles**: Converts movie IDs to names.\n",
    "6. **Return**: A ranked DataFrame of recommended movies.\n",
    "\n",
    "##### Example:\n",
    "```python\n",
    "weighted_pixie_recommend_movie(\"Jurassic Park (1993)\", walk_length=10, num=5)\n"
   ]
  },
  {
   "cell_type": "markdown",
   "metadata": {},
   "source": [
    "#### Random Walk Movie-Based Recommendation Results\n",
    "\n",
    "##### Starting Movie: *Jurassic Park (1993)*\n",
    "\n",
    "##### Recommended Movies:\n",
    "1. **Independence Day (ID4) (1996)**\n",
    "2. **Terminator 2: Judgment Day**\n",
    "\n",
    "---\n",
    "\n",
    "#### Insights\n",
    "\n",
    "- **Genre & Popularity Alignment**:  \n",
    "  Both recommended movies belong to the same action/sci-fi genre as *Jurassic Park*, showing that the model effectively captures thematic connections.\n",
    "\n",
    "- **Graph Connectivity**:  \n",
    "  These movies are linked through shared users in the bipartite graph, meaning users who rated *Jurassic Park* also rated these titles — a key signal in recommendation.\n",
    "\n",
    "- **Random Walk Dynamics**:  \n",
    "  The use of random walk introduces variation, so future runs may surface different but still relevant movies. This promotes content discovery and prevents repetitive suggestions.\n",
    "\n",
    "- **Lightweight and Effective**:  \n",
    "  Despite its simplicity, this graph-based model produces contextually appropriate recommendations without heavy computations.\n",
    "\n",
    "---\n",
    "\n",
    "\n"
   ]
  },
  {
   "cell_type": "markdown",
   "metadata": {},
   "source": [
    "### User based random walk recommendation"
   ]
  },
  {
   "cell_type": "code",
   "execution_count": 34,
   "metadata": {},
   "outputs": [
    {
     "data": {
      "text/html": [
       "<div>\n",
       "<style scoped>\n",
       "    .dataframe tbody tr th:only-of-type {\n",
       "        vertical-align: middle;\n",
       "    }\n",
       "\n",
       "    .dataframe tbody tr th {\n",
       "        vertical-align: top;\n",
       "    }\n",
       "\n",
       "    .dataframe thead th {\n",
       "        text-align: right;\n",
       "    }\n",
       "</style>\n",
       "<table border=\"1\" class=\"dataframe\">\n",
       "  <thead>\n",
       "    <tr style=\"text-align: right;\">\n",
       "      <th></th>\n",
       "      <th>Movie Name</th>\n",
       "    </tr>\n",
       "    <tr>\n",
       "      <th>Ranking</th>\n",
       "      <th></th>\n",
       "    </tr>\n",
       "  </thead>\n",
       "  <tbody>\n",
       "    <tr>\n",
       "      <th>1</th>\n",
       "      <td>Terminator, The (1984)</td>\n",
       "    </tr>\n",
       "    <tr>\n",
       "      <th>2</th>\n",
       "      <td>Burnt By the Sun (1994)</td>\n",
       "    </tr>\n",
       "    <tr>\n",
       "      <th>3</th>\n",
       "      <td>Empire Strikes Back, The (1980)</td>\n",
       "    </tr>\n",
       "    <tr>\n",
       "      <th>4</th>\n",
       "      <td>Philadelphia Story, The (1940)</td>\n",
       "    </tr>\n",
       "    <tr>\n",
       "      <th>5</th>\n",
       "      <td>Fools Rush In (1997)</td>\n",
       "    </tr>\n",
       "  </tbody>\n",
       "</table>\n",
       "</div>"
      ],
      "text/plain": [
       "                              Movie Name\n",
       "Ranking                                 \n",
       "1                 Terminator, The (1984)\n",
       "2                Burnt By the Sun (1994)\n",
       "3        Empire Strikes Back, The (1980)\n",
       "4         Philadelphia Story, The (1940)\n",
       "5                   Fools Rush In (1997)"
      ]
     },
     "execution_count": 34,
     "metadata": {},
     "output_type": "execute_result"
    }
   ],
   "source": [
    "#implementing user based random walk recommendation.\n",
    "\n",
    "def weighted_pixie_recommend_user(user_id, walk_length=15, num=5):\n",
    "    if user_id not in graph:\n",
    "        print(f\"User {user_id} not found in the graph.\")\n",
    "        return pd.DataFrame(columns=['movie_name'])\n",
    "\n",
    "    current_node = user_id\n",
    "    visit_counts = {}\n",
    "\n",
    "    for _ in range(walk_length):\n",
    "        neighbors = list(graph.get(current_node, []))\n",
    "        if not neighbors:\n",
    "            break  # No where to go\n",
    "\n",
    "        next_node = random.choice(neighbors)\n",
    "        \n",
    "        # If we landed on a movie, count it\n",
    "        if isinstance(next_node, int) and next_node in df_movies['movie_id'].values:\n",
    "            visit_counts[next_node] = visit_counts.get(next_node, 0) + 1\n",
    "\n",
    "        current_node = next_node  # Move to next node\n",
    "\n",
    "    # Sort by visit frequency\n",
    "    sorted_movies = sorted(visit_counts.items(), key=lambda x: x[1], reverse=True)[:num]\n",
    "\n",
    "    # Map movie_ids to titles\n",
    "    df_movies['movie_id'] = df_movies['movie_id'].astype(int)\n",
    "    movie_titles = df_movies.set_index('movie_id')['title']\n",
    "    movie_names = [movie_titles.get(mid, f\"Movie ID {mid}\") for mid, _ in sorted_movies]\n",
    "\n",
    "    result_df = pd.DataFrame({\n",
    "        'Ranking': range(1, len(movie_names) + 1),\n",
    "        'Movie Name': movie_names\n",
    "    })\n",
    "    result_df.set_index('Ranking', inplace=True)\n",
    "\n",
    "    return result_df\n",
    "\n",
    "weighted_pixie_recommend_user(1, walk_length=15, num=5)\n"
   ]
  },
  {
   "cell_type": "markdown",
   "metadata": {},
   "source": [
    "#### Code Explanation\n",
    "\n",
    "This function recommends movies to a user by simulating a random walk on the user-movie graph.\n",
    "\n",
    "##### Steps:\n",
    "1. **Start From User Node**: Begins the walk from the specified `user_id`.\n",
    "2. **Random Walk**:\n",
    "   - Randomly moves between connected nodes (users ↔ movies).\n",
    "   - Tracks how often each movie is visited during the walk.\n",
    "3. **Rank Movies**: Sorts visited movies by frequency and picks the top ones.\n",
    "4. **Map Titles**: Converts movie IDs into readable movie titles.\n",
    "5. **Return**: A ranked DataFrame of recommended movies for the user.\n",
    "\n",
    "##### Example:\n",
    "```python\n",
    "weighted_pixie_recommend_user(1, walk_length=15, num=5)\n"
   ]
  },
  {
   "cell_type": "markdown",
   "metadata": {},
   "source": [
    "#### Results & Insights: Pixie-Inspired Random Walk Recommendation Models\n",
    "\n",
    "##### Observed Results:\n",
    "\n",
    "1. **Movie-Based Recommendations (`weighted_pixie_recommend_movie`)**\n",
    "   - When starting from a popular movie (e.g., *Jurassic Park (1993)*), the recommended movies were often:\n",
    "     - Popular among users who also liked the starting movie.\n",
    "     - Released in a similar time period or genre.\n",
    "   - The results showed a good mix of related content, even with limited walk lengths.\n",
    "\n",
    "2. **User-Based Recommendations (`weighted_pixie_recommend_user`)**\n",
    "   - Recommendations for a specific user (e.g., `user_id = 1`) reflected:\n",
    "     - Movies indirectly connected via other users with similar interests.\n",
    "     - A broader range of movies that the user hasn’t rated but are highly rated by similar users.\n",
    "\n",
    "---\n",
    "\n",
    "##### Key Insights:\n",
    "\n",
    "- **Random Walks Add Diversity**: Unlike direct similarity scores, random walks explore multi-hop relationships, leading to more diverse recommendations.\n",
    "  \n",
    "- **Graph Structure Matters**: Users and movies with many connections (edges) tend to appear more in recommendations due to higher traversal likelihood.\n",
    "\n",
    "- **Fallback-Free & Adaptive**: These methods don’t rely on strict rating similarity or matrix sparsity. They work even when users have few ratings, as long as there are graph connections.\n",
    "\n",
    "- **Lightweight Yet Effective**: This model is computationally simpler than matrix factorization or deep learning models, making it suitable for quick prototyping.\n",
    "\n",
    "---\n",
    "\n",
    "\n"
   ]
  },
  {
   "cell_type": "markdown",
   "metadata": {
    "id": "Q36Y2C7PxWO0"
   },
   "source": [
    "---"
   ]
  },
  {
   "cell_type": "markdown",
   "metadata": {
    "id": "9iKlQlvBtiGe"
   },
   "source": [
    "## **Submission Requirements:**"
   ]
  },
  {
   "cell_type": "markdown",
   "metadata": {
    "id": "NHGGedZexPs0"
   },
   "source": [
    "To successfully complete this assignment, ensure that you submit the following:\n",
    "\n",
    "\n",
    "### **1. Jupyter Notebook Submission**\n",
    "- Submit a **fully completed Jupyter Notebook** that includes:\n",
    "  - **All implemented recommendation functions** (user-based, item-based, and random walk-based recommendations).\n",
    "  - **Code explanations** in markdown cells to describe each step.\n",
    "  - **Results and insights** from running your recommendation models.\n",
    "\n",
    "\n",
    "### **2. Explanation of Pixie-Inspired Algorithms (3-5 Paragraphs)**\n",
    "- Write a **detailed explanation** of **Pixie-inspired random walk algorithms** used for recommendations.\n",
    "- Your explanation should cover:\n",
    "  - What **Pixie-inspired recommendation systems** are.\n",
    "  - How **random walks** help in identifying relevant recommendations.\n",
    "  - Any real-world applications of such algorithms in industry.\n",
    "\n",
    "\n",
    "### **3. Report for the Submitted Notebook**\n",
    "Your report should be structured as follows:\n",
    "\n",
    "#### **Title: Movie Recommendation System Report**\n",
    "\n",
    "#### **1. Introduction**\n",
    "- Briefly introduce **movie recommendation systems** and why they are important.\n",
    "- Explain the **different approaches used** (user-based, item-based, random-walk).\n",
    "\n",
    "#### **2. Dataset Description**\n",
    "- Describe the **MovieLens 100K dataset**:\n",
    "  - Number of users, movies, and ratings.\n",
    "  - What features were used.\n",
    "  - Any preprocessing performed.\n",
    "\n",
    "#### **3. Methodology**\n",
    "- Explain the three recommendation techniques implemented:\n",
    "  - **User-based collaborative filtering** (how user similarity was calculated).\n",
    "  - **Item-based collaborative filtering** (how item similarity was determined).\n",
    "  - **Random-walk-based Pixie algorithm** (why graph-based approaches are effective).\n",
    "  \n",
    "#### **4. Implementation Details**\n",
    "- Discuss the steps taken to build the functions.\n",
    "- Describe how the **adjacency list graph** was created.\n",
    "- Explain how **random walks** were performed and how visited movies were ranked.\n",
    "\n",
    "#### **5. Results and Evaluation**\n",
    "- Present **example outputs** from each recommendation approach.\n",
    "- Compare the different methods in terms of accuracy and usefulness.\n",
    "- Discuss any **limitations** in the implementation.\n",
    "\n",
    "#### **6. Conclusion**\n",
    "- Summarize the key takeaways from the project.\n",
    "- Discuss potential improvements (e.g., **hybrid models, additional features**).\n",
    "- Suggest real-world applications of the methods used."
   ]
  },
  {
   "cell_type": "markdown",
   "metadata": {
    "id": "NWgT_Shy-vUK"
   },
   "source": [
    "### **Submission Instructions**"
   ]
  },
  {
   "cell_type": "markdown",
   "metadata": {
    "id": "Nuz1s-Vh_L55"
   },
   "source": [
    "- Submit `.zip` file consisting of Jupyter Notebook and all the datafiles (provided) and the ones saved [i.e. `users.csv`, `movies.csv` and `ratings.csv`]. Also, include the Report and Pixie Algorithm explanation document.\n",
    "- [`Bonus 10 Points`] **Upload your Jupyter Notebook, Explanation Document, and Report** to your GitHub repository.\n",
    "- Ensure the repository is public and contains:\n",
    "  - `users.csv`, `movies.csv` and `ratings.csv` [These are the Dataframes which were created in part 1. Save and export them as a `.csv` file]\n",
    "  - `Movie_Recommendation.ipynb`\n",
    "  - `Pixie_Algorithm_Explanation.pdf` or `.md`\n",
    "  - `Recommendation_Report.pdf` or `.md`\n",
    "- **Submit the GitHub repository link in the cell below.**\n",
    "\n",
    "\n",
    "#### **Example Submission Format**\n",
    "```text\n",
    "GitHub Repository: https://github.com/username/Movie-Recommendation\n",
    "```"
   ]
  },
  {
   "cell_type": "markdown",
   "metadata": {
    "id": "jol9nRDau6fZ"
   },
   "source": [
    "# Submission of Github Link\n",
    "GitHub Repository : https://github.com/priyal-11/Movie_recommendation.git"
   ]
  },
  {
   "cell_type": "markdown",
   "metadata": {
    "id": "oQ6aluK-0ZMa"
   },
   "source": [
    "### **Grading Rubric: ITCS 6162 - Data Mining Assignment**"
   ]
  },
  {
   "cell_type": "markdown",
   "metadata": {
    "id": "sNAfeIzA_fCq"
   },
   "source": [
    "\n",
    "| **Category**                              | **Criteria**                                                     | **Points** |\n",
    "|-------------------------------------------|----------------------------------------------------------------|------------|\n",
    "| **Part 1: Exploring and Cleaning Data (15 pts)**  | Properly loads `u.user`, `u.movies`, and `u.item` datasets into DataFrames | 5 |\n",
    "|                                           | Handles missing values, duplicates, and inconsistencies appropriately | 5 |\n",
    "|                                           | Saves the cleaned datasets into CSV files: `users.csv`, `movies.csv`, `ratings.csv` | 5 |\n",
    "| **Part 2: Collaborative Filtering-Based Recommendation (30 pts)** | Implements user-based collaborative filtering correctly | 10 |\n",
    "|                                           | Implements item-based collaborative filtering correctly | 10 |\n",
    "|                                           | Computes similarity measures accurately and provides valid recommendations | 10 |\n",
    "| **Part 3: Graph-Based Recommender (Pixie-Inspired Algorithm) (35 pts)** | Constructs adjacency lists properly from user-movie interactions | 10 |\n",
    "|                                           | Implements weighted random walk-based recommendation correctly | 15 |\n",
    "|                                           | Explains and justifies the algorithm design choices (Pixie-inspired) | 10 |\n",
    "| **Code Quality & Documentation (10 pts)** | Code is well-structured, efficient, and follows best practices | 5 |\n",
    "|                                           | Markdown explanations and comments are clear and enhance understanding | 5 |\n",
    "| **Results & Interpretation (5 pts)**      | Provides meaningful insights from the recommendation system's output | 5 |\n",
    "| **Submission & Report (5 pts)**          | Submits all required files in the correct format (ZIP file with Jupyter notebook, processed CSV files, and project report) | 5 |\n",
    "| **Total**                                 |                              | 100 |\n",
    "\n",
    "#### **Bonus (10 pts)**\n",
    "| **Category**                              | **Criteria**                                                     | **Points** |\n",
    "|-------------------------------------------|----------------------------------------------------------------|------------|\n",
    "| **GitHub Submission**                     | Provides a well-documented GitHub repository with CSV files, a structured README, and a properly formatted Jupyter Notebook | 10 |"
   ]
  }
 ],
 "metadata": {
  "colab": {
   "collapsed_sections": [
    "NjxACjUgFwsk",
    "AyeSaLpRGYuC",
    "fOXp00QSbtHk",
    "MIN3XqC0eUAu",
    "u_YceL18lWlN",
    "_ZE31gB7lImI",
    "Nuz1s-Vh_L55"
   ],
   "provenance": []
  },
  "kernelspec": {
   "display_name": "Python 3 (ipykernel)",
   "language": "python",
   "name": "python3"
  },
  "language_info": {
   "codemirror_mode": {
    "name": "ipython",
    "version": 3
   },
   "file_extension": ".py",
   "mimetype": "text/x-python",
   "name": "python",
   "nbconvert_exporter": "python",
   "pygments_lexer": "ipython3",
   "version": "3.11.5"
  }
 },
 "nbformat": 4,
 "nbformat_minor": 1
}
